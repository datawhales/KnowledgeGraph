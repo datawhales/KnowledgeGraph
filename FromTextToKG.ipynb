{
 "cells": [
  {
   "cell_type": "markdown",
   "id": "certain-heater",
   "metadata": {},
   "source": [
    "# neuralcoref 사용법"
   ]
  },
  {
   "cell_type": "code",
   "execution_count": 1,
   "id": "vital-officer",
   "metadata": {},
   "outputs": [
    {
     "name": "stdout",
     "output_type": "stream",
     "text": [
      "True\n",
      "[My sister: [My sister, She], a dog: [a dog, him]]\n"
     ]
    }
   ],
   "source": [
    "import spacy\n",
    "nlp = spacy.load('en')\n",
    "\n",
    "import neuralcoref\n",
    "neuralcoref.add_to_pipe(nlp)\n",
    "\n",
    "doc = nlp(u'My sister has a dog. She loves him.')\n",
    "\n",
    "print(doc._.has_coref)\n",
    "print(doc._.coref_clusters)"
   ]
  },
  {
   "cell_type": "code",
   "execution_count": 2,
   "id": "falling-kenya",
   "metadata": {},
   "outputs": [
    {
     "name": "stdout",
     "output_type": "stream",
     "text": [
      "True\n",
      "[My sister: [My sister, She], a dog: [a dog, him]]\n"
     ]
    }
   ],
   "source": [
    "import spacy\n",
    "nlp = spacy.load('en')\n",
    "\n",
    "import neuralcoref\n",
    "coref = neuralcoref.NeuralCoref(nlp.vocab)\n",
    "nlp.add_pipe(coref, name='neuralcoref')\n",
    "\n",
    "doc = nlp(u'My sister has a dog. She loves him.')\n",
    "\n",
    "print(doc._.has_coref)\n",
    "print(doc._.coref_clusters)"
   ]
  },
  {
   "cell_type": "code",
   "execution_count": 3,
   "id": "focused-hours",
   "metadata": {},
   "outputs": [
    {
     "name": "stdout",
     "output_type": "stream",
     "text": [
      "doc은\n",
      "My sister has a dog. She loves him.\n",
      "My sister has a dog. My sister loves a dog.\n",
      "{My sister: {My sister: 1.3110305070877075}, a dog: {a dog: 1.804752230644226, My sister: -1.6715972423553467}, She: {She: -0.10834205150604248, My sister: 8.058426856994629, a dog: -1.0625176429748535}, him: {him: -1.870743989944458, My sister: 3.1147186756134033, a dog: 4.356405258178711, She: -3.1379528045654297}}\n",
      "\n",
      "span은\n",
      "a dog\n",
      "True\n",
      "a dog: [a dog, him]\n",
      "{a dog: 1.804752230644226, My sister: -1.6715972423553467}\n",
      "\n",
      "token은\n",
      "My\n",
      "True\n",
      "[My sister: [My sister, She]]\n"
     ]
    }
   ],
   "source": [
    "print(f'doc은\\n{doc}')\n",
    "print(doc._.coref_resolved)\n",
    "print(doc._.coref_scores)\n",
    "print('')\n",
    "span = doc[-7:-5]\n",
    "print(f'span은\\n{span}')\n",
    "\n",
    "print(span._.is_coref)\n",
    "print(span._.coref_cluster)\n",
    "print(span._.coref_scores)\n",
    "print('')\n",
    "token = doc[-10]\n",
    "print(f'token은\\n{token}')\n",
    "\n",
    "print(token._.in_coref)\n",
    "print(token._.coref_clusters)"
   ]
  },
  {
   "cell_type": "code",
   "execution_count": 4,
   "id": "entertaining-finance",
   "metadata": {
    "scrolled": true
   },
   "outputs": [
    {
     "name": "stdout",
     "output_type": "stream",
     "text": [
      "[Deepika: [Deepika, She, him, The movie star]]\n",
      "Deepika has a dog. Deepika loves Deepika. Deepika has always been fond of animals\n"
     ]
    }
   ],
   "source": [
    "import spacy\n",
    "import neuralcoref\n",
    "\n",
    "nlp = spacy.load('en')\n",
    "neuralcoref.add_to_pipe(nlp)\n",
    "doc = nlp(u'Deepika has a dog. She loves him. The movie star has always been fond of animals')\n",
    "print(doc._.coref_clusters)\n",
    "print(doc._.coref_resolved)"
   ]
  },
  {
   "cell_type": "code",
   "execution_count": 5,
   "id": "inclusive-arrest",
   "metadata": {},
   "outputs": [
    {
     "data": {
      "text/plain": [
       "[Deepika: [Deepika, She, The movies star], a dog: [a dog, him]]"
      ]
     },
     "execution_count": 5,
     "metadata": {},
     "output_type": "execute_result"
    }
   ],
   "source": [
    "nlp.remove_pipe(\"neuralcoref\")\n",
    "neuralcoref.add_to_pipe(nlp, conv_dict={'Deepika':['woman','actress']})\n",
    "\n",
    "doc = nlp(u'Deepika has a dog. She loves him. The movies star has always been fond of animals')\n",
    "doc._.coref_clusters"
   ]
  },
  {
   "cell_type": "code",
   "execution_count": 6,
   "id": "pregnant-perth",
   "metadata": {},
   "outputs": [
    {
     "data": {
      "text/plain": [
       "'Deepika has a dog. Deepika loves a dog. Deepika has always been fond of animals'"
      ]
     },
     "execution_count": 6,
     "metadata": {},
     "output_type": "execute_result"
    }
   ],
   "source": [
    "doc._.coref_resolved"
   ]
  },
  {
   "cell_type": "markdown",
   "id": "necessary-applicant",
   "metadata": {},
   "source": [
    "# Coreference Resolution"
   ]
  },
  {
   "cell_type": "code",
   "execution_count": 7,
   "id": "tribal-ownership",
   "metadata": {
    "scrolled": false
   },
   "outputs": [
    {
     "name": "stdout",
     "output_type": "stream",
     "text": [
      "\n",
      "Elon Musk is a business magnate, industrial designer, and engineer. He is the founder, CEO, CTO, and chief designer of SpaceX. He is also early investor, CEO, and product architect of Tesla, Inc. He is also the founder of The Boring Company and the co-founder of Neuralink. A centibillionaire, Musk became the richest person in the world in January 2021, with an estimated net worth of $185 billion at the time, surpassing Jeff Bezos. Musk was born to a Canadian mother and South African father and raised in Pretoria, South Africa. He briefly attended the University of Pretoria before moving to Canada aged 17 to attend Queen's University. He transferred to the University of Pennsylvania two years later, where he received dual bachelor's degrees in economics and physics. He moved to California in 1995 to attend Stanford University, but decided instead to pursue a business career. He went on co-founding a web software company Zip2 with his brother Kimbal Musk.\n",
      "\n",
      "------------------------------------------\n",
      "\n",
      "Elon Musk is a business magnate, industrial designer, and engineer. \n",
      "Elon Musk is the founder, CEO, CTO, and chief designer of SpaceX. \n",
      "Elon Musk is also early investor, CEO, and product architect of Tesla, Inc. \n",
      "Elon Musk is also the founder of The Boring Company and the co-founder of Neuralink. A centibillionaire, \n",
      "Elon Musk became the richest person in the world in January 2021, with an estimated net worth of $185 billion at the time, surpassing Jeff Bezos. \n",
      "Elon Musk was born to a Canadian mother and South African father and raised in Pretoria, South Africa. \n",
      "Elon Musk briefly attended the University of Pretoria before moving to Canada aged 17 to attend Queen's University. \n",
      "Elon Musk transferred to Queen's University two years later, where \n",
      "Elon Musk received dual bachelor's degrees in economics and physics. \n",
      "Elon Musk moved to California in 1995 to attend Queen's University, but decided instead to pursue a business career. \n",
      "Elon Musk went on co-founding a web software company Zip2 with \n",
      "Elon Musk brother Kimbal Musk.\n",
      "\n"
     ]
    }
   ],
   "source": [
    "# spacy load하기\n",
    "nlp = spacy.load('en')\n",
    "\n",
    "# spacy pipe에 neural coref 추가하기\n",
    "neuralcoref.add_to_pipe(nlp)\n",
    "\n",
    "def coref_resolution(text):\n",
    "    '''\n",
    "    주어진 텍스트에 대해 coreference resolution 수행\n",
    "    '''\n",
    "    doc = nlp(text)\n",
    "    return doc._.coref_resolved\n",
    "\n",
    "text = '''\n",
    "Elon Musk is a business magnate, industrial designer, and engineer. He is the founder, CEO, CTO, and chief designer of SpaceX. He is also early investor, CEO, and product architect of Tesla, Inc. He is also the founder of The Boring Company and the co-founder of Neuralink. A centibillionaire, Musk became the richest person in the world in January 2021, with an estimated net worth of $185 billion at the time, surpassing Jeff Bezos. Musk was born to a Canadian mother and South African father and raised in Pretoria, South Africa. He briefly attended the University of Pretoria before moving to Canada aged 17 to attend Queen's University. He transferred to the University of Pennsylvania two years later, where he received dual bachelor's degrees in economics and physics. He moved to California in 1995 to attend Stanford University, but decided instead to pursue a business career. He went on co-founding a web software company Zip2 with his brother Kimbal Musk.\n",
    "'''\n",
    "\n",
    "print(text)\n",
    "print('------------------------------------------')\n",
    "print(coref_resolution(text))\n",
    "    "
   ]
  },
  {
   "cell_type": "markdown",
   "id": "altered-abraham",
   "metadata": {},
   "source": [
    "# Named Entity Linking"
   ]
  },
  {
   "cell_type": "code",
   "execution_count": 9,
   "id": "exclusive-terry",
   "metadata": {},
   "outputs": [
    {
     "name": "stdout",
     "output_type": "stream",
     "text": [
      "Apple 0 5 ORG\n",
      "U.K. 27 31 GPE\n",
      "$1 billion 44 54 MONEY\n"
     ]
    }
   ],
   "source": [
    "import spacy\n",
    "\n",
    "nlp = spacy.load(\"en\")\n",
    "doc = nlp(\"Apple is looking at buying U.K. startup for $1 billion\")\n",
    "\n",
    "for ent in doc.ents:\n",
    "    print(ent.text, ent.start_char, ent.end_char, ent.label_)"
   ]
  },
  {
   "cell_type": "code",
   "execution_count": 11,
   "id": "fatty-script",
   "metadata": {},
   "outputs": [
    {
     "data": {
      "text/html": [
       "<div class=\"entities\" style=\"line-height: 2.5; direction: ltr\">\n",
       "<mark class=\"entity\" style=\"background: #7aecec; padding: 0.45em 0.6em; margin: 0 0.25em; line-height: 1; border-radius: 0.35em; box-decoration-break: clone; -webkit-box-decoration-break: clone\">\n",
       "    Apple\n",
       "    <span style=\"font-size: 0.8em; font-weight: bold; line-height: 1; border-radius: 0.35em; text-transform: uppercase; vertical-align: middle; margin-left: 0.5rem\">ORG</span>\n",
       "</mark>\n",
       " is looking at buying \n",
       "<mark class=\"entity\" style=\"background: #feca74; padding: 0.45em 0.6em; margin: 0 0.25em; line-height: 1; border-radius: 0.35em; box-decoration-break: clone; -webkit-box-decoration-break: clone\">\n",
       "    U.K.\n",
       "    <span style=\"font-size: 0.8em; font-weight: bold; line-height: 1; border-radius: 0.35em; text-transform: uppercase; vertical-align: middle; margin-left: 0.5rem\">GPE</span>\n",
       "</mark>\n",
       " startup for \n",
       "<mark class=\"entity\" style=\"background: #e4e7d2; padding: 0.45em 0.6em; margin: 0 0.25em; line-height: 1; border-radius: 0.35em; box-decoration-break: clone; -webkit-box-decoration-break: clone\">\n",
       "    $1 billion\n",
       "    <span style=\"font-size: 0.8em; font-weight: bold; line-height: 1; border-radius: 0.35em; text-transform: uppercase; vertical-align: middle; margin-left: 0.5rem\">MONEY</span>\n",
       "</mark>\n",
       "</div>"
      ],
      "text/plain": [
       "<IPython.core.display.HTML object>"
      ]
     },
     "metadata": {},
     "output_type": "display_data"
    }
   ],
   "source": [
    "from spacy import displacy\n",
    "displacy.render(doc, style=\"ent\", jupyter=True)"
   ]
  },
  {
   "cell_type": "code",
   "execution_count": null,
   "id": "grateful-screening",
   "metadata": {},
   "outputs": [],
   "source": []
  }
 ],
 "metadata": {
  "kernelspec": {
   "display_name": "Python 3",
   "language": "python",
   "name": "python3"
  },
  "language_info": {
   "codemirror_mode": {
    "name": "ipython",
    "version": 3
   },
   "file_extension": ".py",
   "mimetype": "text/x-python",
   "name": "python",
   "nbconvert_exporter": "python",
   "pygments_lexer": "ipython3",
   "version": "3.6.12"
  }
 },
 "nbformat": 4,
 "nbformat_minor": 5
}
