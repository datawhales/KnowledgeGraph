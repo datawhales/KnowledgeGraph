{
 "cells": [
  {
   "cell_type": "markdown",
   "metadata": {},
   "source": [
    "# neuralcoref 사용법"
   ]
  },
  {
   "cell_type": "code",
   "execution_count": 1,
   "metadata": {},
   "outputs": [
    {
     "name": "stdout",
     "output_type": "stream",
     "text": [
      "True\n",
      "[My sister: [My sister, She], a dog: [a dog, him]]\n"
     ]
    }
   ],
   "source": [
    "import spacy\n",
    "nlp = spacy.load('en')\n",
    "\n",
    "import neuralcoref\n",
    "neuralcoref.add_to_pipe(nlp)\n",
    "\n",
    "doc = nlp(u'My sister has a dog. She loves him.')\n",
    "\n",
    "print(doc._.has_coref)\n",
    "print(doc._.coref_clusters)"
   ]
  },
  {
   "cell_type": "code",
   "execution_count": 2,
   "metadata": {},
   "outputs": [
    {
     "name": "stdout",
     "output_type": "stream",
     "text": [
      "True\n",
      "[My sister: [My sister, She], a dog: [a dog, him]]\n"
     ]
    }
   ],
   "source": [
    "import spacy\n",
    "nlp = spacy.load('en')\n",
    "\n",
    "import neuralcoref\n",
    "coref = neuralcoref.NeuralCoref(nlp.vocab)\n",
    "nlp.add_pipe(coref, name='neuralcoref')\n",
    "\n",
    "doc = nlp(u'My sister has a dog. She loves him.')\n",
    "\n",
    "print(doc._.has_coref)\n",
    "print(doc._.coref_clusters)"
   ]
  },
  {
   "cell_type": "code",
   "execution_count": 3,
   "metadata": {},
   "outputs": [
    {
     "name": "stdout",
     "output_type": "stream",
     "text": [
      "doc은\n",
      "My sister has a dog. She loves him.\n",
      "My sister has a dog. My sister loves a dog.\n",
      "{My sister: {My sister: 1.3110305070877075}, a dog: {a dog: 1.804752230644226, My sister: -1.6715972423553467}, She: {She: -0.10834205150604248, My sister: 8.058426856994629, a dog: -1.0625176429748535}, him: {him: -1.870743989944458, My sister: 3.1147186756134033, a dog: 4.356405258178711, She: -3.1379528045654297}}\n",
      "\n",
      "span은\n",
      "a dog\n",
      "True\n",
      "a dog: [a dog, him]\n",
      "{a dog: 1.804752230644226, My sister: -1.6715972423553467}\n",
      "\n",
      "token은\n",
      "My\n",
      "True\n",
      "[My sister: [My sister, She]]\n"
     ]
    }
   ],
   "source": [
    "print(f'doc은\\n{doc}')\n",
    "print(doc._.coref_resolved)\n",
    "print(doc._.coref_scores)\n",
    "print('')\n",
    "span = doc[-7:-5]\n",
    "print(f'span은\\n{span}')\n",
    "\n",
    "print(span._.is_coref)\n",
    "print(span._.coref_cluster)\n",
    "print(span._.coref_scores)\n",
    "print('')\n",
    "token = doc[-10]\n",
    "print(f'token은\\n{token}')\n",
    "\n",
    "print(token._.in_coref)\n",
    "print(token._.coref_clusters)"
   ]
  },
  {
   "cell_type": "code",
   "execution_count": 4,
   "metadata": {
    "scrolled": true
   },
   "outputs": [
    {
     "name": "stdout",
     "output_type": "stream",
     "text": [
      "[Deepika: [Deepika, She, him, The movie star]]\n",
      "Deepika has a dog. Deepika loves Deepika. Deepika has always been fond of animals\n"
     ]
    }
   ],
   "source": [
    "import spacy\n",
    "import neuralcoref\n",
    "\n",
    "nlp = spacy.load('en')\n",
    "neuralcoref.add_to_pipe(nlp)\n",
    "doc = nlp(u'Deepika has a dog. She loves him. The movie star has always been fond of animals')\n",
    "print(doc._.coref_clusters)\n",
    "print(doc._.coref_resolved)"
   ]
  },
  {
   "cell_type": "code",
   "execution_count": 5,
   "metadata": {},
   "outputs": [
    {
     "data": {
      "text/plain": [
       "[Deepika: [Deepika, She, The movies star], a dog: [a dog, him]]"
      ]
     },
     "execution_count": 5,
     "metadata": {},
     "output_type": "execute_result"
    }
   ],
   "source": [
    "nlp.remove_pipe(\"neuralcoref\")\n",
    "neuralcoref.add_to_pipe(nlp, conv_dict={'Deepika':['woman','actress']})\n",
    "\n",
    "doc = nlp(u'Deepika has a dog. She loves him. The movies star has always been fond of animals')\n",
    "doc._.coref_clusters"
   ]
  },
  {
   "cell_type": "code",
   "execution_count": 6,
   "metadata": {},
   "outputs": [
    {
     "data": {
      "text/plain": [
       "'Deepika has a dog. Deepika loves a dog. Deepika has always been fond of animals'"
      ]
     },
     "execution_count": 6,
     "metadata": {},
     "output_type": "execute_result"
    }
   ],
   "source": [
    "doc._.coref_resolved"
   ]
  },
  {
   "cell_type": "markdown",
   "metadata": {},
   "source": [
    "# Coreference Resolution"
   ]
  },
  {
   "cell_type": "code",
   "execution_count": 7,
   "metadata": {
    "scrolled": false
   },
   "outputs": [
    {
     "name": "stdout",
     "output_type": "stream",
     "text": [
      "\n",
      "Elon Musk is a business magnate, industrial designer, and engineer.\n",
      "He is the founder, CEO, CTO, and chief designer of SpaceX.\n",
      "He is also early investor, CEO, and product architect of Tesla, Inc.\n",
      "\n",
      "--------------------------------------------------\n",
      "\n",
      "Elon Musk is a business magnate, industrial designer, and engineer.\n",
      "\n",
      "Elon Musk is the founder, CEO, CTO, and chief designer of SpaceX.\n",
      "\n",
      "Elon Musk is also early investor, CEO, and product architect of Tesla, Inc.\n",
      "\n"
     ]
    }
   ],
   "source": [
    "# spacy load하기\n",
    "nlp = spacy.load('en')\n",
    "\n",
    "# spacy pipe에 neural coref 추가하기\n",
    "neuralcoref.add_to_pipe(nlp)\n",
    "\n",
    "def coreference_resolution(text):\n",
    "    '''\n",
    "    주어진 텍스트에 대해 coreference resolution을 수행하고\n",
    "    그 결과에 맞게 대표 단어들로 대체시켜 다시 text를 반환하는 함수\n",
    "    '''\n",
    "    nlp = spacy.load('en')\n",
    "    neuralcoref.add_to_pipe(nlp)\n",
    "    doc = nlp(text)\n",
    "    return doc._.coref_resolved\n",
    "\n",
    "text = '''\n",
    "Elon Musk is a business magnate, industrial designer, and engineer.\n",
    "He is the founder, CEO, CTO, and chief designer of SpaceX.\n",
    "He is also early investor, CEO, and product architect of Tesla, Inc.\n",
    "'''\n",
    "\n",
    "print(text)\n",
    "print('-'*50)\n",
    "print(coreference_resolution(text))\n",
    "    "
   ]
  },
  {
   "cell_type": "markdown",
   "metadata": {},
   "source": [
    "# Named Entity Linking"
   ]
  },
  {
   "cell_type": "code",
   "execution_count": 8,
   "metadata": {
    "scrolled": true
   },
   "outputs": [
    {
     "name": "stdout",
     "output_type": "stream",
     "text": [
      "Apple 0 5 ORG\n",
      "U.K. 27 31 GPE\n",
      "$1 billion 44 54 MONEY\n"
     ]
    }
   ],
   "source": [
    "import spacy\n",
    "\n",
    "nlp = spacy.load(\"en\")\n",
    "doc = nlp(\"Apple is looking at buying U.K. startup for $1 billion.\")\n",
    "\n",
    "for ent in doc.ents:\n",
    "    print(ent.text, ent.start_char, ent.end_char, ent.label_)"
   ]
  },
  {
   "cell_type": "code",
   "execution_count": 9,
   "metadata": {
    "scrolled": true
   },
   "outputs": [
    {
     "data": {
      "text/html": [
       "<div class=\"entities\" style=\"line-height: 2.5; direction: ltr\">\n",
       "<mark class=\"entity\" style=\"background: #7aecec; padding: 0.45em 0.6em; margin: 0 0.25em; line-height: 1; border-radius: 0.35em; box-decoration-break: clone; -webkit-box-decoration-break: clone\">\n",
       "    Apple\n",
       "    <span style=\"font-size: 0.8em; font-weight: bold; line-height: 1; border-radius: 0.35em; text-transform: uppercase; vertical-align: middle; margin-left: 0.5rem\">ORG</span>\n",
       "</mark>\n",
       " is looking at buying \n",
       "<mark class=\"entity\" style=\"background: #feca74; padding: 0.45em 0.6em; margin: 0 0.25em; line-height: 1; border-radius: 0.35em; box-decoration-break: clone; -webkit-box-decoration-break: clone\">\n",
       "    U.K.\n",
       "    <span style=\"font-size: 0.8em; font-weight: bold; line-height: 1; border-radius: 0.35em; text-transform: uppercase; vertical-align: middle; margin-left: 0.5rem\">GPE</span>\n",
       "</mark>\n",
       " startup for \n",
       "<mark class=\"entity\" style=\"background: #e4e7d2; padding: 0.45em 0.6em; margin: 0 0.25em; line-height: 1; border-radius: 0.35em; box-decoration-break: clone; -webkit-box-decoration-break: clone\">\n",
       "    $1 billion\n",
       "    <span style=\"font-size: 0.8em; font-weight: bold; line-height: 1; border-radius: 0.35em; text-transform: uppercase; vertical-align: middle; margin-left: 0.5rem\">MONEY</span>\n",
       "</mark>\n",
       ".</div>"
      ],
      "text/plain": [
       "<IPython.core.display.HTML object>"
      ]
     },
     "metadata": {},
     "output_type": "display_data"
    }
   ],
   "source": [
    "from spacy import displacy\n",
    "displacy.render(doc, style=\"ent\", jupyter=True)"
   ]
  },
  {
   "cell_type": "code",
   "execution_count": 10,
   "metadata": {},
   "outputs": [],
   "source": [
    "def NER(text):\n",
    "    '''\n",
    "    주어진 text에 대해 named entity recognition을 수행하고\n",
    "    (entity 이름, (entity의 시작 인덱스, entity의 끝 인덱스), entity 종류)의 튜플들이\n",
    "    담긴 리스트를 반환하는 함수\n",
    "    '''\n",
    "    nlp = spacy.load('en')\n",
    "    doc = nlp(text)\n",
    "    ent_lst = [(ent.text, (ent.start_char, ent.end_char), ent.label_) for ent in doc.ents]\n",
    "    \n",
    "    return ent_lst"
   ]
  },
  {
   "cell_type": "code",
   "execution_count": 11,
   "metadata": {},
   "outputs": [
    {
     "data": {
      "text/plain": [
       "[('Apple', (0, 5), 'ORG'),\n",
       " ('U.K.', (27, 31), 'GPE'),\n",
       " ('$1 billion', (44, 54), 'MONEY')]"
      ]
     },
     "execution_count": 11,
     "metadata": {},
     "output_type": "execute_result"
    }
   ],
   "source": [
    "text_ex = \"Apple is looking at buying U.K. startup for $1 billion\"\n",
    "NER(text_ex)"
   ]
  },
  {
   "cell_type": "code",
   "execution_count": 12,
   "metadata": {},
   "outputs": [
    {
     "name": "stdout",
     "output_type": "stream",
     "text": [
      "3\n",
      "('Apple', (0, 5), 'ORG')\n"
     ]
    }
   ],
   "source": [
    "print(len(NER(text_ex)))\n",
    "print(NER(text_ex)[0])"
   ]
  },
  {
   "cell_type": "markdown",
   "metadata": {},
   "source": [
    "# Relation Extraction"
   ]
  },
  {
   "cell_type": "code",
   "execution_count": 13,
   "metadata": {},
   "outputs": [],
   "source": [
    "import opennre"
   ]
  },
  {
   "cell_type": "code",
   "execution_count": 14,
   "metadata": {},
   "outputs": [
    {
     "name": "stderr",
     "output_type": "stream",
     "text": [
      "2021-02-25 10:28:03,688 - root - INFO - Initializing word embedding with word2vec.\n"
     ]
    }
   ],
   "source": [
    "model = opennre.get_model('wiki80_cnn_softmax')"
   ]
  },
  {
   "cell_type": "code",
   "execution_count": 15,
   "metadata": {},
   "outputs": [
    {
     "name": "stdout",
     "output_type": "stream",
     "text": [
      "Bill Gates 0 10 PERSON\n",
      "Microsoft 19 28 ORG\n"
     ]
    }
   ],
   "source": [
    "t = 'Bill Gates founded Microsoft.'\n",
    "doc = nlp(t)\n",
    "for ent in doc.ents:\n",
    "    print(ent.text, ent.start_char, ent.end_char, ent.label_)"
   ]
  },
  {
   "cell_type": "code",
   "execution_count": 16,
   "metadata": {},
   "outputs": [
    {
     "data": {
      "text/plain": [
       "'Bill Gates'"
      ]
     },
     "execution_count": 16,
     "metadata": {},
     "output_type": "execute_result"
    }
   ],
   "source": [
    "t[0:10]"
   ]
  },
  {
   "cell_type": "code",
   "execution_count": 17,
   "metadata": {},
   "outputs": [
    {
     "data": {
      "text/plain": [
       "'Microsoft'"
      ]
     },
     "execution_count": 17,
     "metadata": {},
     "output_type": "execute_result"
    }
   ],
   "source": [
    "t[19:28]"
   ]
  },
  {
   "cell_type": "code",
   "execution_count": 18,
   "metadata": {
    "scrolled": true
   },
   "outputs": [
    {
     "data": {
      "text/plain": [
       "('field of work', 0.32416045665740967)"
      ]
     },
     "execution_count": 18,
     "metadata": {},
     "output_type": "execute_result"
    }
   ],
   "source": [
    "model.infer({'text':'Bill Gates founded Microsoft.', 'h':{'pos': (0, 10)}, 't': {'pos': (19, 28)}})"
   ]
  },
  {
   "cell_type": "code",
   "execution_count": 19,
   "metadata": {},
   "outputs": [
    {
     "data": {
      "text/plain": [
       "19"
      ]
     },
     "execution_count": 19,
     "metadata": {},
     "output_type": "execute_result"
    }
   ],
   "source": [
    "t = 'Steve Jobs founded Apple.'\n",
    "t.index('Apple')"
   ]
  },
  {
   "cell_type": "code",
   "execution_count": 20,
   "metadata": {},
   "outputs": [
    {
     "name": "stdout",
     "output_type": "stream",
     "text": [
      "Ford 10 14 PERSON\n",
      "Nixon 45 50 PERSON\n"
     ]
    }
   ],
   "source": [
    "t = 'President Ford granted a pardon to President Nixon.'\n",
    "doc = nlp(t)\n",
    "for ent in doc.ents:\n",
    "    print(ent.text, ent.start_char, ent.end_char, ent.label_)"
   ]
  },
  {
   "cell_type": "code",
   "execution_count": 21,
   "metadata": {
    "scrolled": true
   },
   "outputs": [
    {
     "data": {
      "text/plain": [
       "('head of government', 0.5379694700241089)"
      ]
     },
     "execution_count": 21,
     "metadata": {},
     "output_type": "execute_result"
    }
   ],
   "source": [
    "model.infer({'text':t, 'h':{'pos':(10,14)}, 't': {'pos':(45,50)}})"
   ]
  },
  {
   "cell_type": "code",
   "execution_count": 22,
   "metadata": {},
   "outputs": [
    {
     "data": {
      "text/plain": [
       "tuple"
      ]
     },
     "execution_count": 22,
     "metadata": {},
     "output_type": "execute_result"
    }
   ],
   "source": [
    "type(model.infer({'text':t, 'h':{'pos':(10,14)}, 't': {'pos':(45,50)}}))"
   ]
  },
  {
   "cell_type": "code",
   "execution_count": 23,
   "metadata": {},
   "outputs": [
    {
     "data": {
      "text/plain": [
       "('head of government', 0.5379694700241089)"
      ]
     },
     "execution_count": 23,
     "metadata": {},
     "output_type": "execute_result"
    }
   ],
   "source": [
    "a = (10, 14)\n",
    "b = (45, 50)\n",
    "model.infer({'text':t, 'h':{'pos':a}, 't': {'pos':b}})"
   ]
  },
  {
   "cell_type": "code",
   "execution_count": 24,
   "metadata": {},
   "outputs": [],
   "source": [
    "def RE(text, head_entity_idx, tail_entity_idx, RE_model):\n",
    "    '''\n",
    "    주어진 text에 대해 head entity와 tail entity의 위치를 알고 있을 때\n",
    "    relation extraction을 수행하고 entity 간의 관계를 반환하는 함수\n",
    "    '''\n",
    "    model = opennre.get_model(RE_model)\n",
    "    result = model.infer({'text': text, 'h':{'pos': head_entity_idx}, 't': {'pos': tail_entity_idx}})\n",
    "    \n",
    "    return result"
   ]
  },
  {
   "cell_type": "code",
   "execution_count": 25,
   "metadata": {},
   "outputs": [
    {
     "name": "stdout",
     "output_type": "stream",
     "text": [
      "[('Ford', (10, 14), 'PERSON'), ('Nixon', (45, 50), 'PERSON')]\n"
     ]
    }
   ],
   "source": [
    "text = 'President Ford granted a pardon to President Nixon.'\n",
    "print(NER(text))"
   ]
  },
  {
   "cell_type": "code",
   "execution_count": 26,
   "metadata": {},
   "outputs": [
    {
     "name": "stderr",
     "output_type": "stream",
     "text": [
      "2021-02-25 10:28:05,493 - root - INFO - Initializing word embedding with word2vec.\n"
     ]
    },
    {
     "name": "stdout",
     "output_type": "stream",
     "text": [
      "('head of government', 0.5379694700241089)\n"
     ]
    }
   ],
   "source": [
    "h_idx = NER(text)[0][1]\n",
    "t_idx = NER(text)[1][1]\n",
    "\n",
    "RE_model = 'wiki80_cnn_softmax'\n",
    "\n",
    "print(RE(text, h_idx, t_idx, RE_model))"
   ]
  },
  {
   "cell_type": "code",
   "execution_count": 27,
   "metadata": {},
   "outputs": [
    {
     "name": "stdout",
     "output_type": "stream",
     "text": [
      "[('Apple', (0, 5), 'ORG'), ('U.K.', (27, 31), 'GPE'), ('$1 billion', (44, 54), 'MONEY')]\n"
     ]
    }
   ],
   "source": [
    "text = \"Apple is looking at buying U.K. startup for $1 billion\"\n",
    "print(NER(text_ex))"
   ]
  },
  {
   "cell_type": "code",
   "execution_count": 28,
   "metadata": {},
   "outputs": [
    {
     "data": {
      "text/plain": [
       "[(('Apple', (0, 5), 'ORG'), ('U.K.', (27, 31), 'GPE')),\n",
       " (('Apple', (0, 5), 'ORG'), ('$1 billion', (44, 54), 'MONEY')),\n",
       " (('U.K.', (27, 31), 'GPE'), ('Apple', (0, 5), 'ORG')),\n",
       " (('U.K.', (27, 31), 'GPE'), ('$1 billion', (44, 54), 'MONEY')),\n",
       " (('$1 billion', (44, 54), 'MONEY'), ('Apple', (0, 5), 'ORG')),\n",
       " (('$1 billion', (44, 54), 'MONEY'), ('U.K.', (27, 31), 'GPE'))]"
      ]
     },
     "execution_count": 28,
     "metadata": {},
     "output_type": "execute_result"
    }
   ],
   "source": [
    "from itertools import permutations\n",
    "a = NER(text_ex)\n",
    "candidates = list(permutations(a,2))\n",
    "candidates"
   ]
  },
  {
   "cell_type": "code",
   "execution_count": 29,
   "metadata": {},
   "outputs": [
    {
     "name": "stderr",
     "output_type": "stream",
     "text": [
      "2021-02-25 10:28:06,626 - root - INFO - Initializing word embedding with word2vec.\n"
     ]
    },
    {
     "name": "stdout",
     "output_type": "stream",
     "text": [
      "('Apple', 'subsidiary', 'U.K.', 0.36490923166275024)\n"
     ]
    },
    {
     "name": "stderr",
     "output_type": "stream",
     "text": [
      "2021-02-25 10:28:07,259 - root - INFO - Initializing word embedding with word2vec.\n"
     ]
    },
    {
     "name": "stdout",
     "output_type": "stream",
     "text": [
      "('Apple', 'subsidiary', '$1 billion', 0.3249340057373047)\n"
     ]
    },
    {
     "name": "stderr",
     "output_type": "stream",
     "text": [
      "2021-02-25 10:28:07,890 - root - INFO - Initializing word embedding with word2vec.\n"
     ]
    },
    {
     "name": "stdout",
     "output_type": "stream",
     "text": [
      "('U.K.', 'subsidiary', 'Apple', 0.826092004776001)\n"
     ]
    },
    {
     "name": "stderr",
     "output_type": "stream",
     "text": [
      "2021-02-25 10:28:08,534 - root - INFO - Initializing word embedding with word2vec.\n"
     ]
    },
    {
     "name": "stdout",
     "output_type": "stream",
     "text": [
      "('U.K.', 'subsidiary', '$1 billion', 0.6145082116127014)\n"
     ]
    },
    {
     "name": "stderr",
     "output_type": "stream",
     "text": [
      "2021-02-25 10:28:09,169 - root - INFO - Initializing word embedding with word2vec.\n"
     ]
    },
    {
     "name": "stdout",
     "output_type": "stream",
     "text": [
      "('$1 billion', 'manufacturer', 'Apple', 0.39467406272888184)\n"
     ]
    },
    {
     "name": "stderr",
     "output_type": "stream",
     "text": [
      "2021-02-25 10:28:09,799 - root - INFO - Initializing word embedding with word2vec.\n"
     ]
    },
    {
     "name": "stdout",
     "output_type": "stream",
     "text": [
      "('$1 billion', 'owned by', 'U.K.', 0.4790058434009552)\n"
     ]
    }
   ],
   "source": [
    "for cand in candidates:\n",
    "    h, t = cand\n",
    "    h_text, t_text = h[0], t[0]\n",
    "    h_idx, t_idx = h[1], t[1]\n",
    "    h_label_, t_label_ = h[2], t[2]\n",
    "    r = RE(text, h_idx, t_idx, RE_model)\n",
    "    r_text, r_prob = r[0], r[1]\n",
    "    print((h_text, r_text, t_text, r_prob))"
   ]
  },
  {
   "cell_type": "markdown",
   "metadata": {},
   "source": [
    "# Pipeline\n",
    "input text -> coreference resolution -> named entity recognition -> relation extraction"
   ]
  },
  {
   "cell_type": "code",
   "execution_count": 30,
   "metadata": {},
   "outputs": [],
   "source": [
    "import spacy\n",
    "import neuralcoref\n",
    "import opennre\n",
    "from itertools import permutations\n",
    "from nltk.tokenize import sent_tokenize\n",
    "\n",
    "RE_model = 'wiki80_cnn_softmax'\n",
    "\n",
    "def txt2triple(text):\n",
    "    '''\n",
    "    주어진 텍스트에 대해 coreference resolution을 수행하고\n",
    "    대체시킨 text에서 named entity recognition을 통해 찾은\n",
    "    entities에 대해 relation을 추출하는 함수\n",
    "    '''\n",
    "    # coreference resolution\n",
    "    text = coreference_resolution(text)\n",
    "    \n",
    "    # named entity recognition\n",
    "    ent_info = NER(text)\n",
    "    if len(ent_info) >= 2:\n",
    "        candidates = list(permutations(ent_info, 2))\n",
    "    \n",
    "        # relation extraction\n",
    "        triple_list = []\n",
    "        for cand in candidates:\n",
    "            h, t = cand\n",
    "            \n",
    "            h_text, t_text = h[0], t[0]\n",
    "            h_idx, t_idx = h[1], t[1]\n",
    "            h_label_, t_label_ = h[2], t[2]\n",
    "            \n",
    "            r = RE(text, h_idx, t_idx, RE_model)\n",
    "            r_text, r_prob = r[0], r[1]\n",
    "            \n",
    "            triple = ((h_text, r_text, t_text), r_prob)\n",
    "            triple_list.append(triple)\n",
    "            \n",
    "        return triple_list"
   ]
  },
  {
   "cell_type": "code",
   "execution_count": 31,
   "metadata": {},
   "outputs": [
    {
     "name": "stdout",
     "output_type": "stream",
     "text": [
      "\n",
      "Elon Musk is a business magnate, industrial designer, and engineer.\n",
      "\n",
      "Elon Musk is the founder, CEO, CTO, and chief designer of SpaceX.\n",
      "\n",
      "Elon Musk is also early investor, CEO, and product architect of Tesla, Inc.\n",
      "\n"
     ]
    },
    {
     "data": {
      "text/plain": [
       "['Elon Musk is a business magnate, industrial designer, and engineer.',\n",
       " 'Elon Musk is the founder, CEO, CTO, and chief designer of SpaceX.',\n",
       " 'Elon Musk is also early investor, CEO, and product architect of Tesla, Inc.']"
      ]
     },
     "execution_count": 31,
     "metadata": {},
     "output_type": "execute_result"
    }
   ],
   "source": [
    "text = '''\n",
    "Elon Musk is a business magnate, industrial designer, and engineer.\n",
    "He is the founder, CEO, CTO, and chief designer of SpaceX.\n",
    "He is also early investor, CEO, and product architect of Tesla, Inc.\n",
    "'''\n",
    "text = coreference_resolution(text)\n",
    "print(text)\n",
    "[x.strip() for x in sent_tokenize(text)]"
   ]
  },
  {
   "cell_type": "code",
   "execution_count": 32,
   "metadata": {},
   "outputs": [
    {
     "data": {
      "text/plain": [
       "['\\nElon Musk is a business magnate, industrial designer, and engineer.',\n",
       " 'Elon Musk is the founder, CEO, CTO, and chief designer of SpaceX.',\n",
       " 'Elon Musk is also early investor, CEO, and product architect of Tesla, Inc.']"
      ]
     },
     "execution_count": 32,
     "metadata": {},
     "output_type": "execute_result"
    }
   ],
   "source": [
    "from nltk.tokenize import sent_tokenize\n",
    "sent_tokenize(text)"
   ]
  },
  {
   "cell_type": "code",
   "execution_count": 33,
   "metadata": {
    "scrolled": true
   },
   "outputs": [
    {
     "name": "stderr",
     "output_type": "stream",
     "text": [
      "2021-02-25 10:28:11,365 - root - INFO - Initializing word embedding with word2vec.\n",
      "2021-02-25 10:28:11,997 - root - INFO - Initializing word embedding with word2vec.\n",
      "2021-02-25 10:28:12,646 - root - INFO - Initializing word embedding with word2vec.\n",
      "2021-02-25 10:28:13,285 - root - INFO - Initializing word embedding with word2vec.\n",
      "2021-02-25 10:28:13,923 - root - INFO - Initializing word embedding with word2vec.\n",
      "2021-02-25 10:28:14,577 - root - INFO - Initializing word embedding with word2vec.\n"
     ]
    },
    {
     "data": {
      "text/plain": [
       "[(('Apple', 'subsidiary', 'U.K.'), 0.36490923166275024),\n",
       " (('Apple', 'subsidiary', '$1 billion'), 0.3249340057373047),\n",
       " (('U.K.', 'subsidiary', 'Apple'), 0.826092004776001),\n",
       " (('U.K.', 'subsidiary', '$1 billion'), 0.6145082116127014),\n",
       " (('$1 billion', 'manufacturer', 'Apple'), 0.39467406272888184),\n",
       " (('$1 billion', 'owned by', 'U.K.'), 0.4790058434009552)]"
      ]
     },
     "execution_count": 33,
     "metadata": {},
     "output_type": "execute_result"
    }
   ],
   "source": [
    "t = \"Apple is looking at buying U.K. startup for $1 billion\"\n",
    "txt2triple(t)"
   ]
  },
  {
   "cell_type": "code",
   "execution_count": 34,
   "metadata": {},
   "outputs": [
    {
     "name": "stdout",
     "output_type": "stream",
     "text": [
      "\n",
      "Elon Musk is a business magnate, industrial designer, and engineer.\n",
      "\n",
      "Elon Musk is the founder, CEO, CTO, and chief designer of SpaceX.\n",
      "\n",
      "Elon Musk is also early investor, CEO, and product architect of Tesla, Inc.\n",
      "\n"
     ]
    }
   ],
   "source": [
    "text = '''\n",
    "Elon Musk is a business magnate, industrial designer, and engineer.\n",
    "He is the founder, CEO, CTO, and chief designer of SpaceX.\n",
    "He is also early investor, CEO, and product architect of Tesla, Inc.\n",
    "'''\n",
    "print(coreference_resolution(text))"
   ]
  },
  {
   "cell_type": "code",
   "execution_count": 35,
   "metadata": {},
   "outputs": [
    {
     "name": "stderr",
     "output_type": "stream",
     "text": [
      "2021-02-25 10:28:16,045 - root - INFO - Initializing word embedding with word2vec.\n",
      "2021-02-25 10:28:16,682 - root - INFO - Initializing word embedding with word2vec.\n",
      "2021-02-25 10:28:17,336 - root - INFO - Initializing word embedding with word2vec.\n",
      "2021-02-25 10:28:17,979 - root - INFO - Initializing word embedding with word2vec.\n",
      "2021-02-25 10:28:18,612 - root - INFO - Initializing word embedding with word2vec.\n",
      "2021-02-25 10:28:19,253 - root - INFO - Initializing word embedding with word2vec.\n",
      "2021-02-25 10:28:19,888 - root - INFO - Initializing word embedding with word2vec.\n",
      "2021-02-25 10:28:20,535 - root - INFO - Initializing word embedding with word2vec.\n",
      "2021-02-25 10:28:21,187 - root - INFO - Initializing word embedding with word2vec.\n",
      "2021-02-25 10:28:21,820 - root - INFO - Initializing word embedding with word2vec.\n",
      "2021-02-25 10:28:22,458 - root - INFO - Initializing word embedding with word2vec.\n",
      "2021-02-25 10:28:23,083 - root - INFO - Initializing word embedding with word2vec.\n",
      "2021-02-25 10:28:23,714 - root - INFO - Initializing word embedding with word2vec.\n",
      "2021-02-25 10:28:24,348 - root - INFO - Initializing word embedding with word2vec.\n",
      "2021-02-25 10:28:25,053 - root - INFO - Initializing word embedding with word2vec.\n",
      "2021-02-25 10:28:25,667 - root - INFO - Initializing word embedding with word2vec.\n",
      "2021-02-25 10:28:26,281 - root - INFO - Initializing word embedding with word2vec.\n",
      "2021-02-25 10:28:26,895 - root - INFO - Initializing word embedding with word2vec.\n",
      "2021-02-25 10:28:27,502 - root - INFO - Initializing word embedding with word2vec.\n",
      "2021-02-25 10:28:28,121 - root - INFO - Initializing word embedding with word2vec.\n"
     ]
    },
    {
     "data": {
      "text/plain": [
       "[(('Elon Musk', 'child', 'Elon Musk'), 0.2749059498310089),\n",
       " (('Elon Musk', 'notable work', 'SpaceX.'), 0.2706102728843689),\n",
       " (('Elon Musk', 'child', 'Elon Musk'), 0.21883255243301392),\n",
       " (('Elon Musk', 'manufacturer', 'Tesla, Inc.'), 0.6464232802391052),\n",
       " (('Elon Musk', 'architect', 'Elon Musk'), 0.23258407413959503),\n",
       " (('Elon Musk', 'owned by', 'SpaceX.'), 0.1680341511964798),\n",
       " (('Elon Musk', 'architect', 'Elon Musk'), 0.31130483746528625),\n",
       " (('Elon Musk', 'manufacturer', 'Tesla, Inc.'), 0.44388604164123535),\n",
       " (('SpaceX.', 'architect', 'Elon Musk'), 0.2609061002731323),\n",
       " (('SpaceX.', 'architect', 'Elon Musk'), 0.29049351811408997),\n",
       " (('SpaceX.', 'architect', 'Elon Musk'), 0.28137004375457764),\n",
       " (('SpaceX.', 'manufacturer', 'Tesla, Inc.'), 0.5890234112739563),\n",
       " (('Elon Musk', 'architect', 'Elon Musk'), 0.2562868595123291),\n",
       " (('Elon Musk', 'architect', 'Elon Musk'), 0.2746952176094055),\n",
       " (('Elon Musk', 'owned by', 'SpaceX.'), 0.2741602957248688),\n",
       " (('Elon Musk', 'manufacturer', 'Tesla, Inc.'), 0.4626237750053406),\n",
       " (('Tesla, Inc.', 'architect', 'Elon Musk'), 0.7188683748245239),\n",
       " (('Tesla, Inc.', 'architect', 'Elon Musk'), 0.6890627145767212),\n",
       " (('Tesla, Inc.', 'architect', 'SpaceX.'), 0.4591110050678253),\n",
       " (('Tesla, Inc.', 'architect', 'Elon Musk'), 0.7010253071784973)]"
      ]
     },
     "execution_count": 35,
     "metadata": {},
     "output_type": "execute_result"
    }
   ],
   "source": [
    "txt2triple(text)"
   ]
  },
  {
   "cell_type": "code",
   "execution_count": 36,
   "metadata": {},
   "outputs": [],
   "source": [
    "import spacy\n",
    "import neuralcoref\n",
    "import opennre\n",
    "from itertools import permutations\n",
    "from nltk.tokenize import sent_tokenize\n",
    "from pandas import DataFrame\n",
    "\n",
    "def coreference_resolution(text):\n",
    "    '''\n",
    "    주어진 텍스트에 대해 coreference resolution을 수행하고\n",
    "    그 결과에 맞게 대표 단어들로 대체시켜 다시 text를 반환하는 함수\n",
    "    '''\n",
    "    nlp = spacy.load('en')\n",
    "    neuralcoref.add_to_pipe(nlp)\n",
    "    doc = nlp(text)\n",
    "    return doc._.coref_resolved\n",
    "\n",
    "def NER(text):\n",
    "    '''\n",
    "    주어진 text에 대해 named entity recognition을 수행하고\n",
    "    (entity 이름, (entity의 시작 인덱스, entity의 끝 인덱스), entity 종류)의 튜플들이\n",
    "    담긴 리스트를 반환하는 함수\n",
    "    '''\n",
    "    nlp = spacy.load('en')\n",
    "    doc = nlp(text)\n",
    "    ent_lst = [(ent.text, (ent.start_char, ent.end_char), ent.label_) for ent in doc.ents]\n",
    "    \n",
    "    return ent_lst\n",
    "\n",
    "def RE(text, head_entity_idx, tail_entity_idx, RE_model):\n",
    "    '''\n",
    "    주어진 text에 대해 head entity와 tail entity의 위치를 알고 있을 때\n",
    "    relation extraction을 수행하고 entity 간의 관계를 반환하는 함수\n",
    "    '''\n",
    "    model = opennre.get_model(RE_model)\n",
    "    result = model.infer({'text': text, 'h':{'pos': head_entity_idx}, 't': {'pos': tail_entity_idx}})\n",
    "    \n",
    "    return result\n",
    "\n",
    "def txt2triple(text, RE_model, relation_threshold=0.8):\n",
    "    '''\n",
    "    주어진 텍스트에 대해 coreference resolution을 수행하고\n",
    "    대체시킨 text에서 named entity recognition을 통해 찾은\n",
    "    entities에 대해 relation을 추출하는 함수\n",
    "    '''\n",
    "    # coreference resolution\n",
    "    text = coreference_resolution(text)\n",
    "    \n",
    "    sentences = [x for x in sent_tokenize(text)]\n",
    "#     print(sentences)\n",
    "    triple_list = []\n",
    "    \n",
    "    for sent in sentences:\n",
    "        # named entity recognition\n",
    "        ent_info = NER(sent)\n",
    "#         print(ent_info)\n",
    "        if len(ent_info) >= 2:\n",
    "            candidates = list(permutations(ent_info, 2))\n",
    "    \n",
    "            # relation extraction\n",
    "            for cand in candidates:\n",
    "                h, t = cand\n",
    "            \n",
    "                h_text, t_text = h[0], t[0]\n",
    "                h_idx, t_idx = h[1], t[1]\n",
    "                h_label_, t_label_ = h[2], t[2]\n",
    "            \n",
    "                r = RE(text, h_idx, t_idx, RE_model)\n",
    "                r_text, r_prob = r[0], r[1]\n",
    "                \n",
    "                if h_text != t_text and r_prob > relation_threshold:\n",
    "                    triple = (sent, (h_text, r_text, t_text), r_prob)\n",
    "                    triple_list.append(triple)\n",
    "                    \n",
    "    df = DataFrame(triple_list, columns=['original text','triple','confidence level'])\n",
    "    df.sort_values(by=['confidence level'], ascending=False, inplace=True)\n",
    "    \n",
    "#     return triple_list if triple_list else None\n",
    "    return df if not df.empty else None\n"
   ]
  },
  {
   "cell_type": "code",
   "execution_count": 38,
   "metadata": {
    "scrolled": false
   },
   "outputs": [
    {
     "name": "stderr",
     "output_type": "stream",
     "text": [
      "2021-02-25 10:28:29,174 - root - INFO - Loading BERT pre-trained checkpoint.\n",
      "2021-02-25 10:28:32,581 - root - INFO - Loading BERT pre-trained checkpoint.\n"
     ]
    },
    {
     "data": {
      "text/html": [
       "<div>\n",
       "<style scoped>\n",
       "    .dataframe tbody tr th:only-of-type {\n",
       "        vertical-align: middle;\n",
       "    }\n",
       "\n",
       "    .dataframe tbody tr th {\n",
       "        vertical-align: top;\n",
       "    }\n",
       "\n",
       "    .dataframe thead th {\n",
       "        text-align: right;\n",
       "    }\n",
       "</style>\n",
       "<table border=\"1\" class=\"dataframe\">\n",
       "  <thead>\n",
       "    <tr style=\"text-align: right;\">\n",
       "      <th></th>\n",
       "      <th>original text</th>\n",
       "      <th>triple</th>\n",
       "      <th>confidence level</th>\n",
       "    </tr>\n",
       "  </thead>\n",
       "  <tbody>\n",
       "    <tr>\n",
       "      <th>0</th>\n",
       "      <td>Elon Musk is also early investor, CEO, and pro...</td>\n",
       "      <td>(Elon Musk, spouse, Tesla, Inc.)</td>\n",
       "      <td>0.979075</td>\n",
       "    </tr>\n",
       "    <tr>\n",
       "      <th>1</th>\n",
       "      <td>Elon Musk is also early investor, CEO, and pro...</td>\n",
       "      <td>(Tesla, Inc., spouse, Elon Musk)</td>\n",
       "      <td>0.943041</td>\n",
       "    </tr>\n",
       "  </tbody>\n",
       "</table>\n",
       "</div>"
      ],
      "text/plain": [
       "                                       original text  \\\n",
       "0  Elon Musk is also early investor, CEO, and pro...   \n",
       "1  Elon Musk is also early investor, CEO, and pro...   \n",
       "\n",
       "                             triple  confidence level  \n",
       "0  (Elon Musk, spouse, Tesla, Inc.)          0.979075  \n",
       "1  (Tesla, Inc., spouse, Elon Musk)          0.943041  "
      ]
     },
     "execution_count": 38,
     "metadata": {},
     "output_type": "execute_result"
    }
   ],
   "source": [
    "RE_model = 'wiki80_bert_softmax'\n",
    "\n",
    "text = '''\n",
    "Elon Musk is a business magnate, industrial designer, and engineer.\n",
    "He is the founder, CEO, CTO, and chief designer of SpaceX. \n",
    "He is also early investor, CEO, and product architect of Tesla, Inc.\n",
    "'''\n",
    "txt2triple(text)"
   ]
  },
  {
   "cell_type": "code",
   "execution_count": 39,
   "metadata": {},
   "outputs": [
    {
     "name": "stderr",
     "output_type": "stream",
     "text": [
      "2021-02-25 10:28:36,362 - root - INFO - Loading BERT pre-trained checkpoint.\n",
      "2021-02-25 10:28:39,687 - root - INFO - Loading BERT pre-trained checkpoint.\n"
     ]
    }
   ],
   "source": [
    "txt2triple('Elon Musk is also early investor, CEO, and product architect of Tesla, Inc.')"
   ]
  },
  {
   "cell_type": "code",
   "execution_count": 40,
   "metadata": {},
   "outputs": [],
   "source": [
    "txt2triple('Elon Musk is the founder, CEO, CTO, and chief designer of SpaceX.')"
   ]
  },
  {
   "cell_type": "code",
   "execution_count": 41,
   "metadata": {},
   "outputs": [],
   "source": [
    "text = '''\n",
    "Elon Musk is a business magnate, industrial designer, and engineer. He is the founder, CEO, CTO, and chief designer of SpaceX. He is also early investor, CEO, and product architect of Tesla, Inc. He is also the founder of The Boring Company and the co-founder of Neuralink. A centibillionaire, Musk became the richest person in the world in January 2021, with an estimated net worth of $185 billion at the time, surpassing Jeff Bezos. Musk was born to a Canadian mother and South African father and raised in Pretoria, South Africa. He briefly attended the University of Pretoria before moving to Canada aged 17 to attend Queen's University. He transferred to the University of Pennsylvania two years later, where he received dual bachelor's degrees in economics and physics. He moved to California in 1995 to attend Stanford University, but decided instead to pursue a business career. He went on co-founding a web software company Zip2 with his brother Kimbal Musk.\n",
    "'''"
   ]
  },
  {
   "cell_type": "code",
   "execution_count": 42,
   "metadata": {
    "scrolled": true
   },
   "outputs": [
    {
     "name": "stderr",
     "output_type": "stream",
     "text": [
      "2021-02-25 10:28:44,477 - root - INFO - Loading BERT pre-trained checkpoint.\n",
      "2021-02-25 10:28:47,498 - root - INFO - Loading BERT pre-trained checkpoint.\n",
      "2021-02-25 10:28:50,590 - root - INFO - Loading BERT pre-trained checkpoint.\n",
      "2021-02-25 10:28:53,680 - root - INFO - Loading BERT pre-trained checkpoint.\n",
      "2021-02-25 10:28:56,824 - root - INFO - Loading BERT pre-trained checkpoint.\n",
      "2021-02-25 10:28:59,996 - root - INFO - Loading BERT pre-trained checkpoint.\n",
      "2021-02-25 10:29:03,178 - root - INFO - Loading BERT pre-trained checkpoint.\n",
      "2021-02-25 10:29:06,277 - root - INFO - Loading BERT pre-trained checkpoint.\n",
      "2021-02-25 10:29:09,388 - root - INFO - Loading BERT pre-trained checkpoint.\n",
      "2021-02-25 10:29:12,688 - root - INFO - Loading BERT pre-trained checkpoint.\n",
      "2021-02-25 10:29:16,089 - root - INFO - Loading BERT pre-trained checkpoint.\n",
      "2021-02-25 10:29:18,895 - root - INFO - Loading BERT pre-trained checkpoint.\n",
      "2021-02-25 10:29:21,702 - root - INFO - Loading BERT pre-trained checkpoint.\n",
      "2021-02-25 10:29:24,617 - root - INFO - Loading BERT pre-trained checkpoint.\n",
      "2021-02-25 10:29:27,418 - root - INFO - Loading BERT pre-trained checkpoint.\n",
      "2021-02-25 10:29:30,290 - root - INFO - Loading BERT pre-trained checkpoint.\n",
      "2021-02-25 10:29:33,117 - root - INFO - Loading BERT pre-trained checkpoint.\n",
      "2021-02-25 10:29:36,015 - root - INFO - Loading BERT pre-trained checkpoint.\n",
      "2021-02-25 10:29:38,916 - root - INFO - Loading BERT pre-trained checkpoint.\n",
      "2021-02-25 10:29:41,812 - root - INFO - Loading BERT pre-trained checkpoint.\n",
      "2021-02-25 10:29:45,067 - root - INFO - Loading BERT pre-trained checkpoint.\n",
      "2021-02-25 10:29:48,172 - root - INFO - Loading BERT pre-trained checkpoint.\n",
      "2021-02-25 10:29:51,386 - root - INFO - Loading BERT pre-trained checkpoint.\n",
      "2021-02-25 10:29:54,589 - root - INFO - Loading BERT pre-trained checkpoint.\n",
      "2021-02-25 10:29:57,778 - root - INFO - Loading BERT pre-trained checkpoint.\n",
      "2021-02-25 10:30:01,079 - root - INFO - Loading BERT pre-trained checkpoint.\n",
      "2021-02-25 10:30:04,113 - root - INFO - Loading BERT pre-trained checkpoint.\n",
      "2021-02-25 10:30:07,114 - root - INFO - Loading BERT pre-trained checkpoint.\n",
      "2021-02-25 10:30:10,020 - root - INFO - Loading BERT pre-trained checkpoint.\n",
      "2021-02-25 10:30:12,974 - root - INFO - Loading BERT pre-trained checkpoint.\n",
      "2021-02-25 10:30:15,901 - root - INFO - Loading BERT pre-trained checkpoint.\n",
      "2021-02-25 10:30:18,812 - root - INFO - Loading BERT pre-trained checkpoint.\n",
      "2021-02-25 10:30:21,992 - root - INFO - Loading BERT pre-trained checkpoint.\n",
      "2021-02-25 10:30:24,912 - root - INFO - Loading BERT pre-trained checkpoint.\n",
      "2021-02-25 10:30:27,814 - root - INFO - Loading BERT pre-trained checkpoint.\n",
      "2021-02-25 10:30:30,803 - root - INFO - Loading BERT pre-trained checkpoint.\n",
      "2021-02-25 10:30:33,505 - root - INFO - Loading BERT pre-trained checkpoint.\n",
      "2021-02-25 10:30:36,211 - root - INFO - Loading BERT pre-trained checkpoint.\n",
      "2021-02-25 10:30:38,914 - root - INFO - Loading BERT pre-trained checkpoint.\n",
      "2021-02-25 10:30:41,579 - root - INFO - Loading BERT pre-trained checkpoint.\n",
      "2021-02-25 10:30:44,481 - root - INFO - Loading BERT pre-trained checkpoint.\n",
      "2021-02-25 10:30:47,117 - root - INFO - Loading BERT pre-trained checkpoint.\n",
      "2021-02-25 10:30:49,876 - root - INFO - Loading BERT pre-trained checkpoint.\n",
      "2021-02-25 10:30:52,816 - root - INFO - Loading BERT pre-trained checkpoint.\n",
      "2021-02-25 10:30:55,876 - root - INFO - Loading BERT pre-trained checkpoint.\n",
      "2021-02-25 10:30:58,597 - root - INFO - Loading BERT pre-trained checkpoint.\n",
      "2021-02-25 10:31:01,287 - root - INFO - Loading BERT pre-trained checkpoint.\n",
      "2021-02-25 10:31:04,078 - root - INFO - Loading BERT pre-trained checkpoint.\n",
      "2021-02-25 10:31:06,816 - root - INFO - Loading BERT pre-trained checkpoint.\n",
      "2021-02-25 10:31:09,804 - root - INFO - Loading BERT pre-trained checkpoint.\n",
      "2021-02-25 10:31:12,708 - root - INFO - Loading BERT pre-trained checkpoint.\n",
      "2021-02-25 10:31:15,516 - root - INFO - Loading BERT pre-trained checkpoint.\n",
      "2021-02-25 10:31:18,549 - root - INFO - Loading BERT pre-trained checkpoint.\n",
      "2021-02-25 10:31:21,407 - root - INFO - Loading BERT pre-trained checkpoint.\n",
      "2021-02-25 10:31:24,320 - root - INFO - Loading BERT pre-trained checkpoint.\n",
      "2021-02-25 10:31:27,270 - root - INFO - Loading BERT pre-trained checkpoint.\n",
      "2021-02-25 10:31:30,112 - root - INFO - Loading BERT pre-trained checkpoint.\n",
      "2021-02-25 10:31:33,011 - root - INFO - Loading BERT pre-trained checkpoint.\n",
      "2021-02-25 10:31:35,888 - root - INFO - Loading BERT pre-trained checkpoint.\n",
      "2021-02-25 10:31:38,716 - root - INFO - Loading BERT pre-trained checkpoint.\n",
      "2021-02-25 10:31:41,673 - root - INFO - Loading BERT pre-trained checkpoint.\n",
      "2021-02-25 10:31:44,813 - root - INFO - Loading BERT pre-trained checkpoint.\n",
      "2021-02-25 10:31:47,488 - root - INFO - Loading BERT pre-trained checkpoint.\n",
      "2021-02-25 10:31:50,196 - root - INFO - Loading BERT pre-trained checkpoint.\n",
      "2021-02-25 10:31:52,875 - root - INFO - Loading BERT pre-trained checkpoint.\n",
      "2021-02-25 10:31:55,576 - root - INFO - Loading BERT pre-trained checkpoint.\n",
      "2021-02-25 10:31:58,201 - root - INFO - Loading BERT pre-trained checkpoint.\n",
      "2021-02-25 10:32:00,817 - root - INFO - Loading BERT pre-trained checkpoint.\n",
      "2021-02-25 10:32:03,489 - root - INFO - Loading BERT pre-trained checkpoint.\n",
      "2021-02-25 10:32:06,197 - root - INFO - Loading BERT pre-trained checkpoint.\n",
      "2021-02-25 10:32:08,879 - root - INFO - Loading BERT pre-trained checkpoint.\n",
      "2021-02-25 10:32:11,676 - root - INFO - Loading BERT pre-trained checkpoint.\n",
      "2021-02-25 10:32:14,548 - root - INFO - Loading BERT pre-trained checkpoint.\n",
      "2021-02-25 10:32:17,400 - root - INFO - Loading BERT pre-trained checkpoint.\n",
      "2021-02-25 10:32:20,285 - root - INFO - Loading BERT pre-trained checkpoint.\n",
      "2021-02-25 10:32:23,208 - root - INFO - Loading BERT pre-trained checkpoint.\n",
      "2021-02-25 10:32:26,109 - root - INFO - Loading BERT pre-trained checkpoint.\n",
      "2021-02-25 10:32:29,070 - root - INFO - Loading BERT pre-trained checkpoint.\n",
      "2021-02-25 10:32:32,121 - root - INFO - Loading BERT pre-trained checkpoint.\n",
      "2021-02-25 10:32:35,014 - root - INFO - Loading BERT pre-trained checkpoint.\n",
      "2021-02-25 10:32:37,815 - root - INFO - Loading BERT pre-trained checkpoint.\n",
      "2021-02-25 10:32:40,790 - root - INFO - Loading BERT pre-trained checkpoint.\n",
      "2021-02-25 10:32:43,697 - root - INFO - Loading BERT pre-trained checkpoint.\n",
      "2021-02-25 10:32:46,575 - root - INFO - Loading BERT pre-trained checkpoint.\n",
      "2021-02-25 10:32:49,675 - root - INFO - Loading BERT pre-trained checkpoint.\n",
      "2021-02-25 10:32:52,609 - root - INFO - Loading BERT pre-trained checkpoint.\n",
      "2021-02-25 10:32:55,615 - root - INFO - Loading BERT pre-trained checkpoint.\n",
      "2021-02-25 10:32:58,500 - root - INFO - Loading BERT pre-trained checkpoint.\n",
      "2021-02-25 10:33:01,212 - root - INFO - Loading BERT pre-trained checkpoint.\n",
      "2021-02-25 10:33:03,908 - root - INFO - Loading BERT pre-trained checkpoint.\n",
      "2021-02-25 10:33:06,693 - root - INFO - Loading BERT pre-trained checkpoint.\n",
      "2021-02-25 10:33:09,310 - root - INFO - Loading BERT pre-trained checkpoint.\n",
      "2021-02-25 10:33:11,909 - root - INFO - Loading BERT pre-trained checkpoint.\n",
      "2021-02-25 10:33:14,775 - root - INFO - Loading BERT pre-trained checkpoint.\n",
      "2021-02-25 10:33:17,588 - root - INFO - Loading BERT pre-trained checkpoint.\n",
      "2021-02-25 10:33:20,213 - root - INFO - Loading BERT pre-trained checkpoint.\n",
      "2021-02-25 10:33:22,976 - root - INFO - Loading BERT pre-trained checkpoint.\n",
      "2021-02-25 10:33:25,605 - root - INFO - Loading BERT pre-trained checkpoint.\n",
      "2021-02-25 10:33:28,212 - root - INFO - Loading BERT pre-trained checkpoint.\n",
      "2021-02-25 10:33:30,810 - root - INFO - Loading BERT pre-trained checkpoint.\n",
      "2021-02-25 10:33:33,405 - root - INFO - Loading BERT pre-trained checkpoint.\n",
      "2021-02-25 10:33:36,009 - root - INFO - Loading BERT pre-trained checkpoint.\n"
     ]
    },
    {
     "data": {
      "text/html": [
       "<div>\n",
       "<style scoped>\n",
       "    .dataframe tbody tr th:only-of-type {\n",
       "        vertical-align: middle;\n",
       "    }\n",
       "\n",
       "    .dataframe tbody tr th {\n",
       "        vertical-align: top;\n",
       "    }\n",
       "\n",
       "    .dataframe thead th {\n",
       "        text-align: right;\n",
       "    }\n",
       "</style>\n",
       "<table border=\"1\" class=\"dataframe\">\n",
       "  <thead>\n",
       "    <tr style=\"text-align: right;\">\n",
       "      <th></th>\n",
       "      <th>original text</th>\n",
       "      <th>triple</th>\n",
       "      <th>confidence level</th>\n",
       "    </tr>\n",
       "  </thead>\n",
       "  <tbody>\n",
       "    <tr>\n",
       "      <th>36</th>\n",
       "      <td>Elon Musk briefly attended the University of P...</td>\n",
       "      <td>(17, has part, Queen's University)</td>\n",
       "      <td>0.995863</td>\n",
       "    </tr>\n",
       "    <tr>\n",
       "      <th>56</th>\n",
       "      <td>Elon Musk went on co-founding a web software c...</td>\n",
       "      <td>(Kimbal Musk, has part, Elon Musk)</td>\n",
       "      <td>0.995241</td>\n",
       "    </tr>\n",
       "    <tr>\n",
       "      <th>42</th>\n",
       "      <td>Elon Musk transferred to Queen's University tw...</td>\n",
       "      <td>(two years later, has part, Queen's University)</td>\n",
       "      <td>0.995171</td>\n",
       "    </tr>\n",
       "    <tr>\n",
       "      <th>39</th>\n",
       "      <td>Elon Musk briefly attended the University of P...</td>\n",
       "      <td>(Queen's University, has part, 17)</td>\n",
       "      <td>0.994733</td>\n",
       "    </tr>\n",
       "    <tr>\n",
       "      <th>46</th>\n",
       "      <td>Elon Musk moved to California in 1995 to atten...</td>\n",
       "      <td>(California, has part, Elon Musk)</td>\n",
       "      <td>0.993842</td>\n",
       "    </tr>\n",
       "    <tr>\n",
       "      <th>33</th>\n",
       "      <td>Elon Musk briefly attended the University of P...</td>\n",
       "      <td>(17, has part, Elon Musk)</td>\n",
       "      <td>0.993656</td>\n",
       "    </tr>\n",
       "    <tr>\n",
       "      <th>14</th>\n",
       "      <td>A centibillionaire, \\nElon Musk became the ric...</td>\n",
       "      <td>($185 billion, has part, Elon Musk)</td>\n",
       "      <td>0.992863</td>\n",
       "    </tr>\n",
       "    <tr>\n",
       "      <th>40</th>\n",
       "      <td>Elon Musk transferred to Queen's University tw...</td>\n",
       "      <td>(Queen's University, has part, two years later)</td>\n",
       "      <td>0.992819</td>\n",
       "    </tr>\n",
       "    <tr>\n",
       "      <th>10</th>\n",
       "      <td>A centibillionaire, \\nElon Musk became the ric...</td>\n",
       "      <td>(Elon Musk, has part, $185 billion)</td>\n",
       "      <td>0.992446</td>\n",
       "    </tr>\n",
       "    <tr>\n",
       "      <th>7</th>\n",
       "      <td>Elon Musk is also early investor, CEO, and pro...</td>\n",
       "      <td>(Neuralink, has part, Elon Musk)</td>\n",
       "      <td>0.991472</td>\n",
       "    </tr>\n",
       "    <tr>\n",
       "      <th>20</th>\n",
       "      <td>Elon Musk was born to a Canadian mother and So...</td>\n",
       "      <td>(Canadian, has part, South African)</td>\n",
       "      <td>0.989769</td>\n",
       "    </tr>\n",
       "    <tr>\n",
       "      <th>55</th>\n",
       "      <td>Elon Musk went on co-founding a web software c...</td>\n",
       "      <td>(Kimbal Musk, has part, Elon Musk)</td>\n",
       "      <td>0.989284</td>\n",
       "    </tr>\n",
       "    <tr>\n",
       "      <th>45</th>\n",
       "      <td>Elon Musk moved to California in 1995 to atten...</td>\n",
       "      <td>(Elon Musk, has part, California)</td>\n",
       "      <td>0.989154</td>\n",
       "    </tr>\n",
       "    <tr>\n",
       "      <th>19</th>\n",
       "      <td>Elon Musk was born to a Canadian mother and So...</td>\n",
       "      <td>(Elon Musk, instance of, Canadian)</td>\n",
       "      <td>0.989145</td>\n",
       "    </tr>\n",
       "    <tr>\n",
       "      <th>41</th>\n",
       "      <td>Elon Musk transferred to Queen's University tw...</td>\n",
       "      <td>(Queen's University, has part, Elon Musk)</td>\n",
       "      <td>0.987323</td>\n",
       "    </tr>\n",
       "    <tr>\n",
       "      <th>22</th>\n",
       "      <td>Elon Musk was born to a Canadian mother and So...</td>\n",
       "      <td>(South African, has part, Canadian)</td>\n",
       "      <td>0.986959</td>\n",
       "    </tr>\n",
       "    <tr>\n",
       "      <th>26</th>\n",
       "      <td>Elon Musk briefly attended the University of P...</td>\n",
       "      <td>(Elon Musk, has part, Canada)</td>\n",
       "      <td>0.982889</td>\n",
       "    </tr>\n",
       "    <tr>\n",
       "      <th>0</th>\n",
       "      <td>Elon Musk is also early investor, CEO, and pro...</td>\n",
       "      <td>(Elon Musk, has part, Tesla, Inc.)</td>\n",
       "      <td>0.979618</td>\n",
       "    </tr>\n",
       "    <tr>\n",
       "      <th>53</th>\n",
       "      <td>Elon Musk moved to California in 1995 to atten...</td>\n",
       "      <td>(Queen's University, has part, California)</td>\n",
       "      <td>0.978334</td>\n",
       "    </tr>\n",
       "    <tr>\n",
       "      <th>37</th>\n",
       "      <td>Elon Musk briefly attended the University of P...</td>\n",
       "      <td>(Queen's University, has part, Elon Musk)</td>\n",
       "      <td>0.975275</td>\n",
       "    </tr>\n",
       "    <tr>\n",
       "      <th>16</th>\n",
       "      <td>A centibillionaire, \\nElon Musk became the ric...</td>\n",
       "      <td>($185 billion, has part, Jeff Bezos)</td>\n",
       "      <td>0.974947</td>\n",
       "    </tr>\n",
       "    <tr>\n",
       "      <th>52</th>\n",
       "      <td>Elon Musk moved to California in 1995 to atten...</td>\n",
       "      <td>(Queen's University, has part, Elon Musk)</td>\n",
       "      <td>0.972797</td>\n",
       "    </tr>\n",
       "    <tr>\n",
       "      <th>6</th>\n",
       "      <td>Elon Musk is also early investor, CEO, and pro...</td>\n",
       "      <td>(The Boring Company, part of, Tesla, Inc.)</td>\n",
       "      <td>0.972083</td>\n",
       "    </tr>\n",
       "    <tr>\n",
       "      <th>3</th>\n",
       "      <td>Elon Musk is also early investor, CEO, and pro...</td>\n",
       "      <td>(Tesla, Inc., has part, Elon Musk)</td>\n",
       "      <td>0.971699</td>\n",
       "    </tr>\n",
       "    <tr>\n",
       "      <th>4</th>\n",
       "      <td>Elon Musk is also early investor, CEO, and pro...</td>\n",
       "      <td>(Tesla, Inc., part of, The Boring Company)</td>\n",
       "      <td>0.969235</td>\n",
       "    </tr>\n",
       "    <tr>\n",
       "      <th>32</th>\n",
       "      <td>Elon Musk briefly attended the University of P...</td>\n",
       "      <td>(Canada, has part, Elon Musk)</td>\n",
       "      <td>0.965641</td>\n",
       "    </tr>\n",
       "    <tr>\n",
       "      <th>18</th>\n",
       "      <td>A centibillionaire, \\nElon Musk became the ric...</td>\n",
       "      <td>(Jeff Bezos, has part, $185 billion)</td>\n",
       "      <td>0.965594</td>\n",
       "    </tr>\n",
       "    <tr>\n",
       "      <th>2</th>\n",
       "      <td>Elon Musk is also early investor, CEO, and pro...</td>\n",
       "      <td>(Elon Musk, has part, Neuralink)</td>\n",
       "      <td>0.963355</td>\n",
       "    </tr>\n",
       "    <tr>\n",
       "      <th>23</th>\n",
       "      <td>Elon Musk was born to a Canadian mother and So...</td>\n",
       "      <td>(Pretoria, instance of, South Africa)</td>\n",
       "      <td>0.959684</td>\n",
       "    </tr>\n",
       "    <tr>\n",
       "      <th>38</th>\n",
       "      <td>Elon Musk briefly attended the University of P...</td>\n",
       "      <td>(Queen's University, has part, the University ...</td>\n",
       "      <td>0.958626</td>\n",
       "    </tr>\n",
       "    <tr>\n",
       "      <th>5</th>\n",
       "      <td>Elon Musk is also early investor, CEO, and pro...</td>\n",
       "      <td>(Tesla, Inc., has part, Neuralink)</td>\n",
       "      <td>0.957253</td>\n",
       "    </tr>\n",
       "    <tr>\n",
       "      <th>28</th>\n",
       "      <td>Elon Musk briefly attended the University of P...</td>\n",
       "      <td>(Elon Musk, has part, Queen's University)</td>\n",
       "      <td>0.955301</td>\n",
       "    </tr>\n",
       "    <tr>\n",
       "      <th>31</th>\n",
       "      <td>Elon Musk briefly attended the University of P...</td>\n",
       "      <td>(the University of Pretoria, has part, Queen's...</td>\n",
       "      <td>0.954247</td>\n",
       "    </tr>\n",
       "    <tr>\n",
       "      <th>30</th>\n",
       "      <td>Elon Musk briefly attended the University of P...</td>\n",
       "      <td>(the University of Pretoria, has part, 17)</td>\n",
       "      <td>0.953784</td>\n",
       "    </tr>\n",
       "    <tr>\n",
       "      <th>50</th>\n",
       "      <td>Elon Musk moved to California in 1995 to atten...</td>\n",
       "      <td>(1995, has part, California)</td>\n",
       "      <td>0.952366</td>\n",
       "    </tr>\n",
       "    <tr>\n",
       "      <th>54</th>\n",
       "      <td>Elon Musk went on co-founding a web software c...</td>\n",
       "      <td>(Elon Musk, has part, Kimbal Musk)</td>\n",
       "      <td>0.951321</td>\n",
       "    </tr>\n",
       "    <tr>\n",
       "      <th>47</th>\n",
       "      <td>Elon Musk moved to California in 1995 to atten...</td>\n",
       "      <td>(California, has part, 1995)</td>\n",
       "      <td>0.949668</td>\n",
       "    </tr>\n",
       "    <tr>\n",
       "      <th>34</th>\n",
       "      <td>Elon Musk briefly attended the University of P...</td>\n",
       "      <td>(17, has part, the University of Pretoria)</td>\n",
       "      <td>0.949250</td>\n",
       "    </tr>\n",
       "    <tr>\n",
       "      <th>17</th>\n",
       "      <td>A centibillionaire, \\nElon Musk became the ric...</td>\n",
       "      <td>(Jeff Bezos, has part, Elon Musk)</td>\n",
       "      <td>0.946923</td>\n",
       "    </tr>\n",
       "    <tr>\n",
       "      <th>11</th>\n",
       "      <td>A centibillionaire, \\nElon Musk became the ric...</td>\n",
       "      <td>(Elon Musk, has part, Jeff Bezos)</td>\n",
       "      <td>0.944384</td>\n",
       "    </tr>\n",
       "    <tr>\n",
       "      <th>49</th>\n",
       "      <td>Elon Musk moved to California in 1995 to atten...</td>\n",
       "      <td>(1995, has part, Elon Musk)</td>\n",
       "      <td>0.940931</td>\n",
       "    </tr>\n",
       "    <tr>\n",
       "      <th>43</th>\n",
       "      <td>Elon Musk transferred to Queen's University tw...</td>\n",
       "      <td>(Elon Musk, has part, Queen's University)</td>\n",
       "      <td>0.939580</td>\n",
       "    </tr>\n",
       "    <tr>\n",
       "      <th>25</th>\n",
       "      <td>Elon Musk was born to a Canadian mother and So...</td>\n",
       "      <td>(South Africa, instance of, Pretoria)</td>\n",
       "      <td>0.920223</td>\n",
       "    </tr>\n",
       "    <tr>\n",
       "      <th>48</th>\n",
       "      <td>Elon Musk moved to California in 1995 to atten...</td>\n",
       "      <td>(California, has part, Queen's University)</td>\n",
       "      <td>0.919362</td>\n",
       "    </tr>\n",
       "    <tr>\n",
       "      <th>27</th>\n",
       "      <td>Elon Musk briefly attended the University of P...</td>\n",
       "      <td>(Elon Musk, has part, 17)</td>\n",
       "      <td>0.915017</td>\n",
       "    </tr>\n",
       "    <tr>\n",
       "      <th>44</th>\n",
       "      <td>Elon Musk transferred to Queen's University tw...</td>\n",
       "      <td>(Elon Musk, has part, two years later)</td>\n",
       "      <td>0.909573</td>\n",
       "    </tr>\n",
       "    <tr>\n",
       "      <th>8</th>\n",
       "      <td>Elon Musk is also early investor, CEO, and pro...</td>\n",
       "      <td>(Neuralink, has part, Tesla, Inc.)</td>\n",
       "      <td>0.909393</td>\n",
       "    </tr>\n",
       "    <tr>\n",
       "      <th>9</th>\n",
       "      <td>A centibillionaire, \\nElon Musk became the ric...</td>\n",
       "      <td>(Elon Musk, has part, January 2021)</td>\n",
       "      <td>0.907281</td>\n",
       "    </tr>\n",
       "    <tr>\n",
       "      <th>24</th>\n",
       "      <td>Elon Musk was born to a Canadian mother and So...</td>\n",
       "      <td>(South Africa, instance of, Canadian)</td>\n",
       "      <td>0.892398</td>\n",
       "    </tr>\n",
       "    <tr>\n",
       "      <th>12</th>\n",
       "      <td>A centibillionaire, \\nElon Musk became the ric...</td>\n",
       "      <td>(January 2021, has part, Elon Musk)</td>\n",
       "      <td>0.865337</td>\n",
       "    </tr>\n",
       "    <tr>\n",
       "      <th>1</th>\n",
       "      <td>Elon Musk is also early investor, CEO, and pro...</td>\n",
       "      <td>(Elon Musk, part of, The Boring Company)</td>\n",
       "      <td>0.862160</td>\n",
       "    </tr>\n",
       "    <tr>\n",
       "      <th>21</th>\n",
       "      <td>Elon Musk was born to a Canadian mother and So...</td>\n",
       "      <td>(South African, has part, Elon Musk)</td>\n",
       "      <td>0.857513</td>\n",
       "    </tr>\n",
       "    <tr>\n",
       "      <th>35</th>\n",
       "      <td>Elon Musk briefly attended the University of P...</td>\n",
       "      <td>(17, part of, Canada)</td>\n",
       "      <td>0.856966</td>\n",
       "    </tr>\n",
       "    <tr>\n",
       "      <th>51</th>\n",
       "      <td>Elon Musk moved to California in 1995 to atten...</td>\n",
       "      <td>(1995, has part, Queen's University)</td>\n",
       "      <td>0.835225</td>\n",
       "    </tr>\n",
       "    <tr>\n",
       "      <th>29</th>\n",
       "      <td>Elon Musk briefly attended the University of P...</td>\n",
       "      <td>(the University of Pretoria, said to be the sa...</td>\n",
       "      <td>0.819702</td>\n",
       "    </tr>\n",
       "    <tr>\n",
       "      <th>13</th>\n",
       "      <td>A centibillionaire, \\nElon Musk became the ric...</td>\n",
       "      <td>(January 2021, has part, $185 billion)</td>\n",
       "      <td>0.813268</td>\n",
       "    </tr>\n",
       "    <tr>\n",
       "      <th>15</th>\n",
       "      <td>A centibillionaire, \\nElon Musk became the ric...</td>\n",
       "      <td>($185 billion, has part, January 2021)</td>\n",
       "      <td>0.812768</td>\n",
       "    </tr>\n",
       "  </tbody>\n",
       "</table>\n",
       "</div>"
      ],
      "text/plain": [
       "                                        original text  \\\n",
       "36  Elon Musk briefly attended the University of P...   \n",
       "56  Elon Musk went on co-founding a web software c...   \n",
       "42  Elon Musk transferred to Queen's University tw...   \n",
       "39  Elon Musk briefly attended the University of P...   \n",
       "46  Elon Musk moved to California in 1995 to atten...   \n",
       "33  Elon Musk briefly attended the University of P...   \n",
       "14  A centibillionaire, \\nElon Musk became the ric...   \n",
       "40  Elon Musk transferred to Queen's University tw...   \n",
       "10  A centibillionaire, \\nElon Musk became the ric...   \n",
       "7   Elon Musk is also early investor, CEO, and pro...   \n",
       "20  Elon Musk was born to a Canadian mother and So...   \n",
       "55  Elon Musk went on co-founding a web software c...   \n",
       "45  Elon Musk moved to California in 1995 to atten...   \n",
       "19  Elon Musk was born to a Canadian mother and So...   \n",
       "41  Elon Musk transferred to Queen's University tw...   \n",
       "22  Elon Musk was born to a Canadian mother and So...   \n",
       "26  Elon Musk briefly attended the University of P...   \n",
       "0   Elon Musk is also early investor, CEO, and pro...   \n",
       "53  Elon Musk moved to California in 1995 to atten...   \n",
       "37  Elon Musk briefly attended the University of P...   \n",
       "16  A centibillionaire, \\nElon Musk became the ric...   \n",
       "52  Elon Musk moved to California in 1995 to atten...   \n",
       "6   Elon Musk is also early investor, CEO, and pro...   \n",
       "3   Elon Musk is also early investor, CEO, and pro...   \n",
       "4   Elon Musk is also early investor, CEO, and pro...   \n",
       "32  Elon Musk briefly attended the University of P...   \n",
       "18  A centibillionaire, \\nElon Musk became the ric...   \n",
       "2   Elon Musk is also early investor, CEO, and pro...   \n",
       "23  Elon Musk was born to a Canadian mother and So...   \n",
       "38  Elon Musk briefly attended the University of P...   \n",
       "5   Elon Musk is also early investor, CEO, and pro...   \n",
       "28  Elon Musk briefly attended the University of P...   \n",
       "31  Elon Musk briefly attended the University of P...   \n",
       "30  Elon Musk briefly attended the University of P...   \n",
       "50  Elon Musk moved to California in 1995 to atten...   \n",
       "54  Elon Musk went on co-founding a web software c...   \n",
       "47  Elon Musk moved to California in 1995 to atten...   \n",
       "34  Elon Musk briefly attended the University of P...   \n",
       "17  A centibillionaire, \\nElon Musk became the ric...   \n",
       "11  A centibillionaire, \\nElon Musk became the ric...   \n",
       "49  Elon Musk moved to California in 1995 to atten...   \n",
       "43  Elon Musk transferred to Queen's University tw...   \n",
       "25  Elon Musk was born to a Canadian mother and So...   \n",
       "48  Elon Musk moved to California in 1995 to atten...   \n",
       "27  Elon Musk briefly attended the University of P...   \n",
       "44  Elon Musk transferred to Queen's University tw...   \n",
       "8   Elon Musk is also early investor, CEO, and pro...   \n",
       "9   A centibillionaire, \\nElon Musk became the ric...   \n",
       "24  Elon Musk was born to a Canadian mother and So...   \n",
       "12  A centibillionaire, \\nElon Musk became the ric...   \n",
       "1   Elon Musk is also early investor, CEO, and pro...   \n",
       "21  Elon Musk was born to a Canadian mother and So...   \n",
       "35  Elon Musk briefly attended the University of P...   \n",
       "51  Elon Musk moved to California in 1995 to atten...   \n",
       "29  Elon Musk briefly attended the University of P...   \n",
       "13  A centibillionaire, \\nElon Musk became the ric...   \n",
       "15  A centibillionaire, \\nElon Musk became the ric...   \n",
       "\n",
       "                                               triple  confidence level  \n",
       "36                 (17, has part, Queen's University)          0.995863  \n",
       "56                 (Kimbal Musk, has part, Elon Musk)          0.995241  \n",
       "42    (two years later, has part, Queen's University)          0.995171  \n",
       "39                 (Queen's University, has part, 17)          0.994733  \n",
       "46                  (California, has part, Elon Musk)          0.993842  \n",
       "33                          (17, has part, Elon Musk)          0.993656  \n",
       "14                ($185 billion, has part, Elon Musk)          0.992863  \n",
       "40    (Queen's University, has part, two years later)          0.992819  \n",
       "10                (Elon Musk, has part, $185 billion)          0.992446  \n",
       "7                    (Neuralink, has part, Elon Musk)          0.991472  \n",
       "20                (Canadian, has part, South African)          0.989769  \n",
       "55                 (Kimbal Musk, has part, Elon Musk)          0.989284  \n",
       "45                  (Elon Musk, has part, California)          0.989154  \n",
       "19                 (Elon Musk, instance of, Canadian)          0.989145  \n",
       "41          (Queen's University, has part, Elon Musk)          0.987323  \n",
       "22                (South African, has part, Canadian)          0.986959  \n",
       "26                      (Elon Musk, has part, Canada)          0.982889  \n",
       "0                  (Elon Musk, has part, Tesla, Inc.)          0.979618  \n",
       "53         (Queen's University, has part, California)          0.978334  \n",
       "37          (Queen's University, has part, Elon Musk)          0.975275  \n",
       "16               ($185 billion, has part, Jeff Bezos)          0.974947  \n",
       "52          (Queen's University, has part, Elon Musk)          0.972797  \n",
       "6          (The Boring Company, part of, Tesla, Inc.)          0.972083  \n",
       "3                  (Tesla, Inc., has part, Elon Musk)          0.971699  \n",
       "4          (Tesla, Inc., part of, The Boring Company)          0.969235  \n",
       "32                      (Canada, has part, Elon Musk)          0.965641  \n",
       "18               (Jeff Bezos, has part, $185 billion)          0.965594  \n",
       "2                    (Elon Musk, has part, Neuralink)          0.963355  \n",
       "23              (Pretoria, instance of, South Africa)          0.959684  \n",
       "38  (Queen's University, has part, the University ...          0.958626  \n",
       "5                  (Tesla, Inc., has part, Neuralink)          0.957253  \n",
       "28          (Elon Musk, has part, Queen's University)          0.955301  \n",
       "31  (the University of Pretoria, has part, Queen's...          0.954247  \n",
       "30         (the University of Pretoria, has part, 17)          0.953784  \n",
       "50                       (1995, has part, California)          0.952366  \n",
       "54                 (Elon Musk, has part, Kimbal Musk)          0.951321  \n",
       "47                       (California, has part, 1995)          0.949668  \n",
       "34         (17, has part, the University of Pretoria)          0.949250  \n",
       "17                  (Jeff Bezos, has part, Elon Musk)          0.946923  \n",
       "11                  (Elon Musk, has part, Jeff Bezos)          0.944384  \n",
       "49                        (1995, has part, Elon Musk)          0.940931  \n",
       "43          (Elon Musk, has part, Queen's University)          0.939580  \n",
       "25              (South Africa, instance of, Pretoria)          0.920223  \n",
       "48         (California, has part, Queen's University)          0.919362  \n",
       "27                          (Elon Musk, has part, 17)          0.915017  \n",
       "44             (Elon Musk, has part, two years later)          0.909573  \n",
       "8                  (Neuralink, has part, Tesla, Inc.)          0.909393  \n",
       "9                 (Elon Musk, has part, January 2021)          0.907281  \n",
       "24              (South Africa, instance of, Canadian)          0.892398  \n",
       "12                (January 2021, has part, Elon Musk)          0.865337  \n",
       "1            (Elon Musk, part of, The Boring Company)          0.862160  \n",
       "21               (South African, has part, Elon Musk)          0.857513  \n",
       "35                              (17, part of, Canada)          0.856966  \n",
       "51               (1995, has part, Queen's University)          0.835225  \n",
       "29  (the University of Pretoria, said to be the sa...          0.819702  \n",
       "13             (January 2021, has part, $185 billion)          0.813268  \n",
       "15             ($185 billion, has part, January 2021)          0.812768  "
      ]
     },
     "execution_count": 42,
     "metadata": {},
     "output_type": "execute_result"
    }
   ],
   "source": [
    "txt2triple(text)"
   ]
  },
  {
   "cell_type": "code",
   "execution_count": 43,
   "metadata": {
    "scrolled": true
   },
   "outputs": [
    {
     "name": "stdout",
     "output_type": "stream",
     "text": [
      "None\n",
      "None\n"
     ]
    },
    {
     "name": "stderr",
     "output_type": "stream",
     "text": [
      "2021-02-25 10:33:40,020 - root - INFO - Loading BERT pre-trained checkpoint.\n",
      "2021-02-25 10:33:42,615 - root - INFO - Loading BERT pre-trained checkpoint.\n"
     ]
    },
    {
     "name": "stdout",
     "output_type": "stream",
     "text": [
      "None\n"
     ]
    },
    {
     "name": "stderr",
     "output_type": "stream",
     "text": [
      "2021-02-25 10:33:45,636 - root - INFO - Loading BERT pre-trained checkpoint.\n",
      "2021-02-25 10:33:48,318 - root - INFO - Loading BERT pre-trained checkpoint.\n",
      "2021-02-25 10:33:50,887 - root - INFO - Loading BERT pre-trained checkpoint.\n",
      "2021-02-25 10:33:53,493 - root - INFO - Loading BERT pre-trained checkpoint.\n",
      "2021-02-25 10:33:56,092 - root - INFO - Loading BERT pre-trained checkpoint.\n",
      "2021-02-25 10:33:58,818 - root - INFO - Loading BERT pre-trained checkpoint.\n"
     ]
    },
    {
     "name": "stdout",
     "output_type": "stream",
     "text": [
      "                                       original text  \\\n",
      "2  Elon Musk is also the founder of The Boring Co...   \n",
      "4  Elon Musk is also the founder of The Boring Co...   \n",
      "0  Elon Musk is also the founder of The Boring Co...   \n",
      "3  Elon Musk is also the founder of The Boring Co...   \n",
      "5  Elon Musk is also the founder of The Boring Co...   \n",
      "1  Elon Musk is also the founder of The Boring Co...   \n",
      "\n",
      "                                        triple  confidence level  \n",
      "2    (The Boring Company, owned by, Elon Musk)          0.992970  \n",
      "4             (Neuralink, owned by, Elon Musk)          0.986557  \n",
      "0    (Elon Musk, owned by, The Boring Company)          0.956924  \n",
      "3  (The Boring Company, subsidiary, Neuralink)          0.954756  \n",
      "5  (Neuralink, subsidiary, The Boring Company)          0.873525  \n",
      "1             (Elon Musk, owned by, Neuralink)          0.847245  \n"
     ]
    },
    {
     "name": "stderr",
     "output_type": "stream",
     "text": [
      "2021-02-25 10:34:01,985 - root - INFO - Loading BERT pre-trained checkpoint.\n",
      "2021-02-25 10:34:04,617 - root - INFO - Loading BERT pre-trained checkpoint.\n",
      "2021-02-25 10:34:07,201 - root - INFO - Loading BERT pre-trained checkpoint.\n",
      "2021-02-25 10:34:09,790 - root - INFO - Loading BERT pre-trained checkpoint.\n",
      "2021-02-25 10:34:12,480 - root - INFO - Loading BERT pre-trained checkpoint.\n",
      "2021-02-25 10:34:15,118 - root - INFO - Loading BERT pre-trained checkpoint.\n",
      "2021-02-25 10:34:17,974 - root - INFO - Loading BERT pre-trained checkpoint.\n",
      "2021-02-25 10:34:20,679 - root - INFO - Loading BERT pre-trained checkpoint.\n",
      "2021-02-25 10:34:23,321 - root - INFO - Loading BERT pre-trained checkpoint.\n",
      "2021-02-25 10:34:26,000 - root - INFO - Loading BERT pre-trained checkpoint.\n",
      "2021-02-25 10:34:28,683 - root - INFO - Loading BERT pre-trained checkpoint.\n",
      "2021-02-25 10:34:31,371 - root - INFO - Loading BERT pre-trained checkpoint.\n"
     ]
    },
    {
     "name": "stdout",
     "output_type": "stream",
     "text": [
      "                                       original text  \\\n",
      "4  A centibillionaire, Musk became the richest pe...   \n",
      "7  A centibillionaire, Musk became the richest pe...   \n",
      "0  A centibillionaire, Musk became the richest pe...   \n",
      "5  A centibillionaire, Musk became the richest pe...   \n",
      "2  A centibillionaire, Musk became the richest pe...   \n",
      "6  A centibillionaire, Musk became the richest pe...   \n",
      "1  A centibillionaire, Musk became the richest pe...   \n",
      "3  A centibillionaire, Musk became the richest pe...   \n",
      "\n",
      "                                             triple  confidence level  \n",
      "4  (January 2021, successful candidate, Jeff Bezos)          0.981011  \n",
      "7  (Jeff Bezos, successful candidate, January 2021)          0.977220  \n",
      "0        (Musk, successful candidate, January 2021)          0.947142  \n",
      "5                    ($185 billion, owned by, Musk)          0.940614  \n",
      "2        (January 2021, successful candidate, Musk)          0.912202  \n",
      "6             ($185 billion, follows, January 2021)          0.910861  \n",
      "1                    (Musk, owned by, $185 billion)          0.906453  \n",
      "3             (January 2021, follows, $185 billion)          0.897547  \n"
     ]
    },
    {
     "name": "stderr",
     "output_type": "stream",
     "text": [
      "2021-02-25 10:34:34,506 - root - INFO - Loading BERT pre-trained checkpoint.\n",
      "2021-02-25 10:34:37,116 - root - INFO - Loading BERT pre-trained checkpoint.\n",
      "2021-02-25 10:34:39,719 - root - INFO - Loading BERT pre-trained checkpoint.\n",
      "2021-02-25 10:34:42,471 - root - INFO - Loading BERT pre-trained checkpoint.\n",
      "2021-02-25 10:34:45,189 - root - INFO - Loading BERT pre-trained checkpoint.\n",
      "2021-02-25 10:34:47,876 - root - INFO - Loading BERT pre-trained checkpoint.\n",
      "2021-02-25 10:34:50,477 - root - INFO - Loading BERT pre-trained checkpoint.\n",
      "2021-02-25 10:34:53,102 - root - INFO - Loading BERT pre-trained checkpoint.\n",
      "2021-02-25 10:34:55,684 - root - INFO - Loading BERT pre-trained checkpoint.\n",
      "2021-02-25 10:34:58,218 - root - INFO - Loading BERT pre-trained checkpoint.\n",
      "2021-02-25 10:35:00,996 - root - INFO - Loading BERT pre-trained checkpoint.\n",
      "2021-02-25 10:35:03,720 - root - INFO - Loading BERT pre-trained checkpoint.\n",
      "2021-02-25 10:35:06,603 - root - INFO - Loading BERT pre-trained checkpoint.\n",
      "2021-02-25 10:35:09,289 - root - INFO - Loading BERT pre-trained checkpoint.\n",
      "2021-02-25 10:35:12,076 - root - INFO - Loading BERT pre-trained checkpoint.\n",
      "2021-02-25 10:35:14,715 - root - INFO - Loading BERT pre-trained checkpoint.\n",
      "2021-02-25 10:35:17,377 - root - INFO - Loading BERT pre-trained checkpoint.\n",
      "2021-02-25 10:35:20,100 - root - INFO - Loading BERT pre-trained checkpoint.\n",
      "2021-02-25 10:35:22,790 - root - INFO - Loading BERT pre-trained checkpoint.\n",
      "2021-02-25 10:35:25,306 - root - INFO - Loading BERT pre-trained checkpoint.\n"
     ]
    },
    {
     "name": "stdout",
     "output_type": "stream",
     "text": [
      "                                        original text  \\\n",
      "6   Musk was born to a Canadian mother and South A...   \n",
      "4   Musk was born to a Canadian mother and South A...   \n",
      "7   Musk was born to a Canadian mother and South A...   \n",
      "11  Musk was born to a Canadian mother and South A...   \n",
      "8   Musk was born to a Canadian mother and South A...   \n",
      "0   Musk was born to a Canadian mother and South A...   \n",
      "12  Musk was born to a Canadian mother and South A...   \n",
      "1   Musk was born to a Canadian mother and South A...   \n",
      "9   Musk was born to a Canadian mother and South A...   \n",
      "5   Musk was born to a Canadian mother and South A...   \n",
      "10  Musk was born to a Canadian mother and South A...   \n",
      "2   Musk was born to a Canadian mother and South A...   \n",
      "3   Musk was born to a Canadian mother and South A...   \n",
      "\n",
      "                                               triple  confidence level  \n",
      "6              (South African, country, South Africa)          0.979991  \n",
      "4                   (Canadian, country, South Africa)          0.978967  \n",
      "7                  (Pretoria, country, South African)          0.972114  \n",
      "11             (South Africa, country, South African)          0.970934  \n",
      "8                   (Pretoria, country, South Africa)          0.966507  \n",
      "0       (Musk, country of citizenship, South African)          0.955146  \n",
      "12  (South Africa, contains administrative territo...          0.940045  \n",
      "1                         (Musk, residence, Pretoria)          0.937957  \n",
      "9                       (South Africa, country, Musk)          0.934749  \n",
      "5       (South African, country of citizenship, Musk)          0.896566  \n",
      "10                  (South Africa, country, Canadian)          0.866108  \n",
      "2        (Musk, country of citizenship, South Africa)          0.846267  \n",
      "3         (Canadian, headquarters location, Pretoria)          0.802190  \n"
     ]
    },
    {
     "name": "stderr",
     "output_type": "stream",
     "text": [
      "2021-02-25 10:35:28,318 - root - INFO - Loading BERT pre-trained checkpoint.\n",
      "2021-02-25 10:35:30,907 - root - INFO - Loading BERT pre-trained checkpoint.\n",
      "2021-02-25 10:35:33,602 - root - INFO - Loading BERT pre-trained checkpoint.\n",
      "2021-02-25 10:35:36,306 - root - INFO - Loading BERT pre-trained checkpoint.\n",
      "2021-02-25 10:35:39,007 - root - INFO - Loading BERT pre-trained checkpoint.\n",
      "2021-02-25 10:35:41,588 - root - INFO - Loading BERT pre-trained checkpoint.\n",
      "2021-02-25 10:35:44,216 - root - INFO - Loading BERT pre-trained checkpoint.\n",
      "2021-02-25 10:35:46,884 - root - INFO - Loading BERT pre-trained checkpoint.\n",
      "2021-02-25 10:35:49,511 - root - INFO - Loading BERT pre-trained checkpoint.\n",
      "2021-02-25 10:35:52,117 - root - INFO - Loading BERT pre-trained checkpoint.\n",
      "2021-02-25 10:35:54,787 - root - INFO - Loading BERT pre-trained checkpoint.\n",
      "2021-02-25 10:35:57,409 - root - INFO - Loading BERT pre-trained checkpoint.\n",
      "2021-02-25 10:36:00,107 - root - INFO - Loading BERT pre-trained checkpoint.\n",
      "2021-02-25 10:36:02,713 - root - INFO - Loading BERT pre-trained checkpoint.\n",
      "2021-02-25 10:36:05,304 - root - INFO - Loading BERT pre-trained checkpoint.\n",
      "2021-02-25 10:36:07,884 - root - INFO - Loading BERT pre-trained checkpoint.\n",
      "2021-02-25 10:36:10,489 - root - INFO - Loading BERT pre-trained checkpoint.\n",
      "2021-02-25 10:36:13,116 - root - INFO - Loading BERT pre-trained checkpoint.\n",
      "2021-02-25 10:36:15,914 - root - INFO - Loading BERT pre-trained checkpoint.\n",
      "2021-02-25 10:36:18,710 - root - INFO - Loading BERT pre-trained checkpoint.\n"
     ]
    },
    {
     "name": "stdout",
     "output_type": "stream",
     "text": [
      "                                       original text  \\\n",
      "2  Elon Musk briefly attended the University of P...   \n",
      "0  Elon Musk briefly attended the University of P...   \n",
      "1  Elon Musk briefly attended the University of P...   \n",
      "3  Elon Musk briefly attended the University of P...   \n",
      "\n",
      "                                              triple  confidence level  \n",
      "2                     (Canada, residence, Elon Musk)          0.982576  \n",
      "0  (Elon Musk, work location, the University of P...          0.981645  \n",
      "1                     (Elon Musk, residence, Canada)          0.977528  \n",
      "3           (Queen's University, sibling, Elon Musk)          0.951930  \n"
     ]
    },
    {
     "name": "stderr",
     "output_type": "stream",
     "text": [
      "2021-02-25 10:36:21,842 - root - INFO - Loading BERT pre-trained checkpoint.\n",
      "2021-02-25 10:36:24,483 - root - INFO - Loading BERT pre-trained checkpoint.\n",
      "2021-02-25 10:36:27,083 - root - INFO - Loading BERT pre-trained checkpoint.\n",
      "2021-02-25 10:36:29,716 - root - INFO - Loading BERT pre-trained checkpoint.\n",
      "2021-02-25 10:36:32,377 - root - INFO - Loading BERT pre-trained checkpoint.\n",
      "2021-02-25 10:36:35,018 - root - INFO - Loading BERT pre-trained checkpoint.\n",
      "2021-02-25 10:36:37,680 - root - INFO - Loading BERT pre-trained checkpoint.\n",
      "2021-02-25 10:36:40,308 - root - INFO - Loading BERT pre-trained checkpoint.\n",
      "2021-02-25 10:36:42,910 - root - INFO - Loading BERT pre-trained checkpoint.\n",
      "2021-02-25 10:36:45,675 - root - INFO - Loading BERT pre-trained checkpoint.\n",
      "2021-02-25 10:36:48,275 - root - INFO - Loading BERT pre-trained checkpoint.\n",
      "2021-02-25 10:36:50,895 - root - INFO - Loading BERT pre-trained checkpoint.\n"
     ]
    },
    {
     "name": "stdout",
     "output_type": "stream",
     "text": [
      "                                       original text  \\\n",
      "5  Elon Musk transferred to the University of Pen...   \n",
      "0  Elon Musk transferred to the University of Pen...   \n",
      "6  Elon Musk transferred to the University of Pen...   \n",
      "3  Elon Musk transferred to the University of Pen...   \n",
      "4  Elon Musk transferred to the University of Pen...   \n",
      "1  Elon Musk transferred to the University of Pen...   \n",
      "2  Elon Musk transferred to the University of Pen...   \n",
      "\n",
      "                                              triple  confidence level  \n",
      "5  (Elon Musk, work location, the University of P...          0.954321  \n",
      "0  (Elon Musk, work location, the University of P...          0.950841  \n",
      "6              (Elon Musk, sibling, two years later)          0.905605  \n",
      "3  (two years later, subsidiary, the University o...          0.903049  \n",
      "4              (two years later, sibling, Elon Musk)          0.899068  \n",
      "1  (the University of Pennsylvania, subsidiary, t...          0.850591  \n",
      "2  (the University of Pennsylvania, work location...          0.816901  \n"
     ]
    },
    {
     "name": "stderr",
     "output_type": "stream",
     "text": [
      "2021-02-25 10:36:54,039 - root - INFO - Loading BERT pre-trained checkpoint.\n",
      "2021-02-25 10:36:56,615 - root - INFO - Loading BERT pre-trained checkpoint.\n",
      "2021-02-25 10:36:59,279 - root - INFO - Loading BERT pre-trained checkpoint.\n",
      "2021-02-25 10:37:01,974 - root - INFO - Loading BERT pre-trained checkpoint.\n",
      "2021-02-25 10:37:04,685 - root - INFO - Loading BERT pre-trained checkpoint.\n",
      "2021-02-25 10:37:07,318 - root - INFO - Loading BERT pre-trained checkpoint.\n",
      "2021-02-25 10:37:09,916 - root - INFO - Loading BERT pre-trained checkpoint.\n",
      "2021-02-25 10:37:12,508 - root - INFO - Loading BERT pre-trained checkpoint.\n",
      "2021-02-25 10:37:15,097 - root - INFO - Loading BERT pre-trained checkpoint.\n",
      "2021-02-25 10:37:17,718 - root - INFO - Loading BERT pre-trained checkpoint.\n",
      "2021-02-25 10:37:20,475 - root - INFO - Loading BERT pre-trained checkpoint.\n",
      "2021-02-25 10:37:23,106 - root - INFO - Loading BERT pre-trained checkpoint.\n"
     ]
    },
    {
     "name": "stdout",
     "output_type": "stream",
     "text": [
      "                                       original text  \\\n",
      "0  Elon Musk moved to California in 1995 to atten...   \n",
      "2  Elon Musk moved to California in 1995 to atten...   \n",
      "4  Elon Musk moved to California in 1995 to atten...   \n",
      "1  Elon Musk moved to California in 1995 to atten...   \n",
      "7  Elon Musk moved to California in 1995 to atten...   \n",
      "5  Elon Musk moved to California in 1995 to atten...   \n",
      "3  Elon Musk moved to California in 1995 to atten...   \n",
      "6  Elon Musk moved to California in 1995 to atten...   \n",
      "\n",
      "                                 triple  confidence level  \n",
      "0    (Elon Musk, residence, California)          0.997232  \n",
      "2    (California, residence, Elon Musk)          0.996242  \n",
      "4        (1995, participant, Elon Musk)          0.964369  \n",
      "1        (Elon Musk, participant, 1995)          0.952421  \n",
      "7  (Stanford University, follows, 1995)          0.944061  \n",
      "5          (1995, location, California)          0.917068  \n",
      "3          (California, location, 1995)          0.913099  \n",
      "6  (1995, follows, Stanford University)          0.909800  \n"
     ]
    },
    {
     "name": "stderr",
     "output_type": "stream",
     "text": [
      "2021-02-25 10:37:26,140 - root - INFO - Loading BERT pre-trained checkpoint.\n",
      "2021-02-25 10:37:28,707 - root - INFO - Loading BERT pre-trained checkpoint.\n",
      "2021-02-25 10:37:31,300 - root - INFO - Loading BERT pre-trained checkpoint.\n",
      "2021-02-25 10:37:33,983 - root - INFO - Loading BERT pre-trained checkpoint.\n",
      "2021-02-25 10:37:36,586 - root - INFO - Loading BERT pre-trained checkpoint.\n",
      "2021-02-25 10:37:39,191 - root - INFO - Loading BERT pre-trained checkpoint.\n"
     ]
    },
    {
     "name": "stdout",
     "output_type": "stream",
     "text": [
      "                                       original text  \\\n",
      "2  Elon Musk went on co-founding a web software c...   \n",
      "0  Elon Musk went on co-founding a web software c...   \n",
      "3  Elon Musk went on co-founding a web software c...   \n",
      "1  Elon Musk went on co-founding a web software c...   \n",
      "\n",
      "                              triple  confidence level  \n",
      "2  (Kimbal Musk, sibling, Elon Musk)          0.997942  \n",
      "0  (Elon Musk, sibling, Kimbal Musk)          0.997933  \n",
      "3  (Kimbal Musk, sibling, Elon Musk)          0.997929  \n",
      "1  (Elon Musk, sibling, Kimbal Musk)          0.997869  \n"
     ]
    }
   ],
   "source": [
    "print(txt2triple('Elon Musk is a business magnate, industrial designer, and engineer.'))\n",
    "print(txt2triple('Elon Musk is the founder, CEO, CTO, and chief designer of SpaceX.'))\n",
    "print(txt2triple('Elon Musk is also early investor, CEO, and product architect of Tesla, Inc.'))\n",
    "print(txt2triple('Elon Musk is also the founder of The Boring Company and the co-founder of Neuralink.'))\n",
    "print(txt2triple('A centibillionaire, Musk became the richest person in the world in January 2021, with an estimated net worth of $185 billion at the time, surpassing Jeff Bezos.'))\n",
    "print(txt2triple('Musk was born to a Canadian mother and South African father and raised in Pretoria, South Africa.'))\n",
    "print(txt2triple(\"Elon Musk briefly attended the University of Pretoria before moving to Canada aged 17 to attend Queen's University.\"))\n",
    "print(txt2triple(\"Elon Musk transferred to the University of Pennsylvania two years later, where he received dual bachelor's degrees in economics and physics.\"))\n",
    "print(txt2triple(\"Elon Musk moved to California in 1995 to attend Stanford University, but decided instead to pursue a business career.\"))\n",
    "print(txt2triple(\"Elon Musk went on co-founding a web software company Zip2 with his brother Kimbal Musk.\"))\n",
    "\n"
   ]
  },
  {
   "cell_type": "code",
   "execution_count": 44,
   "metadata": {},
   "outputs": [
    {
     "name": "stderr",
     "output_type": "stream",
     "text": [
      "2021-02-25 10:37:42,189 - root - INFO - Loading BERT pre-trained checkpoint.\n",
      "2021-02-25 10:37:44,716 - root - INFO - Loading BERT pre-trained checkpoint.\n",
      "2021-02-25 10:37:47,416 - root - INFO - Loading BERT pre-trained checkpoint.\n",
      "2021-02-25 10:37:50,079 - root - INFO - Loading BERT pre-trained checkpoint.\n",
      "2021-02-25 10:37:52,677 - root - INFO - Loading BERT pre-trained checkpoint.\n",
      "2021-02-25 10:37:55,276 - root - INFO - Loading BERT pre-trained checkpoint.\n",
      "2021-02-25 10:37:57,821 - root - INFO - Loading BERT pre-trained checkpoint.\n",
      "2021-02-25 10:38:00,505 - root - INFO - Loading BERT pre-trained checkpoint.\n",
      "2021-02-25 10:38:03,113 - root - INFO - Loading BERT pre-trained checkpoint.\n",
      "2021-02-25 10:38:05,708 - root - INFO - Loading BERT pre-trained checkpoint.\n",
      "2021-02-25 10:38:08,377 - root - INFO - Loading BERT pre-trained checkpoint.\n",
      "2021-02-25 10:38:10,917 - root - INFO - Loading BERT pre-trained checkpoint.\n",
      "2021-02-25 10:38:13,571 - root - INFO - Loading BERT pre-trained checkpoint.\n",
      "2021-02-25 10:38:16,170 - root - INFO - Loading BERT pre-trained checkpoint.\n",
      "2021-02-25 10:38:18,880 - root - INFO - Loading BERT pre-trained checkpoint.\n",
      "2021-02-25 10:38:21,670 - root - INFO - Loading BERT pre-trained checkpoint.\n",
      "2021-02-25 10:38:24,476 - root - INFO - Loading BERT pre-trained checkpoint.\n",
      "2021-02-25 10:38:27,416 - root - INFO - Loading BERT pre-trained checkpoint.\n",
      "2021-02-25 10:38:30,008 - root - INFO - Loading BERT pre-trained checkpoint.\n",
      "2021-02-25 10:38:32,595 - root - INFO - Loading BERT pre-trained checkpoint.\n"
     ]
    },
    {
     "data": {
      "text/html": [
       "<div>\n",
       "<style scoped>\n",
       "    .dataframe tbody tr th:only-of-type {\n",
       "        vertical-align: middle;\n",
       "    }\n",
       "\n",
       "    .dataframe tbody tr th {\n",
       "        vertical-align: top;\n",
       "    }\n",
       "\n",
       "    .dataframe thead th {\n",
       "        text-align: right;\n",
       "    }\n",
       "</style>\n",
       "<table border=\"1\" class=\"dataframe\">\n",
       "  <thead>\n",
       "    <tr style=\"text-align: right;\">\n",
       "      <th></th>\n",
       "      <th>original text</th>\n",
       "      <th>triple</th>\n",
       "      <th>confidence level</th>\n",
       "    </tr>\n",
       "  </thead>\n",
       "  <tbody>\n",
       "    <tr>\n",
       "      <th>4</th>\n",
       "      <td>The Marvel Cinematic Universe (MCU) is an Amer...</td>\n",
       "      <td>(Marvel Comics, has part, MCU)</td>\n",
       "      <td>0.980686</td>\n",
       "    </tr>\n",
       "    <tr>\n",
       "      <th>0</th>\n",
       "      <td>The Marvel Cinematic Universe (MCU) is an Amer...</td>\n",
       "      <td>(MCU, country of origin, American)</td>\n",
       "      <td>0.931788</td>\n",
       "    </tr>\n",
       "    <tr>\n",
       "      <th>1</th>\n",
       "      <td>The Marvel Cinematic Universe (MCU) is an Amer...</td>\n",
       "      <td>(MCU, part of, Marvel Comics)</td>\n",
       "      <td>0.885659</td>\n",
       "    </tr>\n",
       "    <tr>\n",
       "      <th>2</th>\n",
       "      <td>The Marvel Cinematic Universe (MCU) is an Amer...</td>\n",
       "      <td>(American, part of, MCU)</td>\n",
       "      <td>0.863393</td>\n",
       "    </tr>\n",
       "    <tr>\n",
       "      <th>5</th>\n",
       "      <td>The Marvel Cinematic Universe (MCU) is an Amer...</td>\n",
       "      <td>(Marvel Comics, subsidiary, Marvel Studios)</td>\n",
       "      <td>0.850024</td>\n",
       "    </tr>\n",
       "    <tr>\n",
       "      <th>3</th>\n",
       "      <td>The Marvel Cinematic Universe (MCU) is an Amer...</td>\n",
       "      <td>(Marvel Studios, subsidiary, Marvel Comics)</td>\n",
       "      <td>0.829021</td>\n",
       "    </tr>\n",
       "  </tbody>\n",
       "</table>\n",
       "</div>"
      ],
      "text/plain": [
       "                                       original text  \\\n",
       "4  The Marvel Cinematic Universe (MCU) is an Amer...   \n",
       "0  The Marvel Cinematic Universe (MCU) is an Amer...   \n",
       "1  The Marvel Cinematic Universe (MCU) is an Amer...   \n",
       "2  The Marvel Cinematic Universe (MCU) is an Amer...   \n",
       "5  The Marvel Cinematic Universe (MCU) is an Amer...   \n",
       "3  The Marvel Cinematic Universe (MCU) is an Amer...   \n",
       "\n",
       "                                        triple  confidence level  \n",
       "4               (Marvel Comics, has part, MCU)          0.980686  \n",
       "0           (MCU, country of origin, American)          0.931788  \n",
       "1                (MCU, part of, Marvel Comics)          0.885659  \n",
       "2                     (American, part of, MCU)          0.863393  \n",
       "5  (Marvel Comics, subsidiary, Marvel Studios)          0.850024  \n",
       "3  (Marvel Studios, subsidiary, Marvel Comics)          0.829021  "
      ]
     },
     "execution_count": 44,
     "metadata": {},
     "output_type": "execute_result"
    }
   ],
   "source": [
    "txt2triple(\"The Marvel Cinematic Universe (MCU) is an American media franchise and shared universe centered on a series of superhero films, independently produced by Marvel Studios and based on characters that appear in American comic books published by Marvel Comics. The franchise includes comic books, short films, television series, and digital series. The shared universe, much like the original Marvel Universe in comic books, was established by crossing over common plot elements, settings, cast, and characters.\")"
   ]
  },
  {
   "cell_type": "code",
   "execution_count": 45,
   "metadata": {},
   "outputs": [
    {
     "name": "stderr",
     "output_type": "stream",
     "text": [
      "2021-02-25 10:38:36,029 - root - INFO - Loading BERT pre-trained checkpoint.\n",
      "2021-02-25 10:38:38,689 - root - INFO - Loading BERT pre-trained checkpoint.\n",
      "2021-02-25 10:38:41,383 - root - INFO - Loading BERT pre-trained checkpoint.\n",
      "2021-02-25 10:38:43,989 - root - INFO - Loading BERT pre-trained checkpoint.\n",
      "2021-02-25 10:38:46,617 - root - INFO - Loading BERT pre-trained checkpoint.\n",
      "2021-02-25 10:38:49,289 - root - INFO - Loading BERT pre-trained checkpoint.\n",
      "2021-02-25 10:38:51,880 - root - INFO - Loading BERT pre-trained checkpoint.\n",
      "2021-02-25 10:38:54,584 - root - INFO - Loading BERT pre-trained checkpoint.\n",
      "2021-02-25 10:38:57,211 - root - INFO - Loading BERT pre-trained checkpoint.\n",
      "2021-02-25 10:38:59,814 - root - INFO - Loading BERT pre-trained checkpoint.\n",
      "2021-02-25 10:39:02,483 - root - INFO - Loading BERT pre-trained checkpoint.\n",
      "2021-02-25 10:39:05,215 - root - INFO - Loading BERT pre-trained checkpoint.\n",
      "2021-02-25 10:39:07,820 - root - INFO - Loading BERT pre-trained checkpoint.\n",
      "2021-02-25 10:39:10,576 - root - INFO - Loading BERT pre-trained checkpoint.\n",
      "2021-02-25 10:39:13,277 - root - INFO - Loading BERT pre-trained checkpoint.\n",
      "2021-02-25 10:39:15,974 - root - INFO - Loading BERT pre-trained checkpoint.\n",
      "2021-02-25 10:39:18,681 - root - INFO - Loading BERT pre-trained checkpoint.\n",
      "2021-02-25 10:39:21,396 - root - INFO - Loading BERT pre-trained checkpoint.\n",
      "2021-02-25 10:39:24,115 - root - INFO - Loading BERT pre-trained checkpoint.\n",
      "2021-02-25 10:39:26,874 - root - INFO - Loading BERT pre-trained checkpoint.\n",
      "2021-02-25 10:39:29,682 - root - INFO - Loading BERT pre-trained checkpoint.\n",
      "2021-02-25 10:39:32,484 - root - INFO - Loading BERT pre-trained checkpoint.\n",
      "2021-02-25 10:39:35,376 - root - INFO - Loading BERT pre-trained checkpoint.\n",
      "2021-02-25 10:39:38,076 - root - INFO - Loading BERT pre-trained checkpoint.\n",
      "2021-02-25 10:39:40,776 - root - INFO - Loading BERT pre-trained checkpoint.\n",
      "2021-02-25 10:39:43,412 - root - INFO - Loading BERT pre-trained checkpoint.\n",
      "2021-02-25 10:39:46,074 - root - INFO - Loading BERT pre-trained checkpoint.\n",
      "2021-02-25 10:39:48,776 - root - INFO - Loading BERT pre-trained checkpoint.\n",
      "2021-02-25 10:39:51,483 - root - INFO - Loading BERT pre-trained checkpoint.\n",
      "2021-02-25 10:39:54,113 - root - INFO - Loading BERT pre-trained checkpoint.\n",
      "2021-02-25 10:39:56,872 - root - INFO - Loading BERT pre-trained checkpoint.\n",
      "2021-02-25 10:39:59,515 - root - INFO - Loading BERT pre-trained checkpoint.\n",
      "2021-02-25 10:40:02,179 - root - INFO - Loading BERT pre-trained checkpoint.\n",
      "2021-02-25 10:40:04,971 - root - INFO - Loading BERT pre-trained checkpoint.\n",
      "2021-02-25 10:40:07,600 - root - INFO - Loading BERT pre-trained checkpoint.\n",
      "2021-02-25 10:40:10,271 - root - INFO - Loading BERT pre-trained checkpoint.\n",
      "2021-02-25 10:40:12,915 - root - INFO - Loading BERT pre-trained checkpoint.\n",
      "2021-02-25 10:40:15,591 - root - INFO - Loading BERT pre-trained checkpoint.\n",
      "2021-02-25 10:40:18,305 - root - INFO - Loading BERT pre-trained checkpoint.\n",
      "2021-02-25 10:40:21,207 - root - INFO - Loading BERT pre-trained checkpoint.\n",
      "2021-02-25 10:40:24,179 - root - INFO - Loading BERT pre-trained checkpoint.\n",
      "2021-02-25 10:40:27,114 - root - INFO - Loading BERT pre-trained checkpoint.\n",
      "2021-02-25 10:40:30,341 - root - INFO - Loading BERT pre-trained checkpoint.\n",
      "2021-02-25 10:40:33,220 - root - INFO - Loading BERT pre-trained checkpoint.\n",
      "2021-02-25 10:40:36,316 - root - INFO - Loading BERT pre-trained checkpoint.\n",
      "2021-02-25 10:40:39,218 - root - INFO - Loading BERT pre-trained checkpoint.\n",
      "2021-02-25 10:40:42,120 - root - INFO - Loading BERT pre-trained checkpoint.\n",
      "2021-02-25 10:40:45,135 - root - INFO - Loading BERT pre-trained checkpoint.\n",
      "2021-02-25 10:40:47,784 - root - INFO - Loading BERT pre-trained checkpoint.\n",
      "2021-02-25 10:40:50,496 - root - INFO - Loading BERT pre-trained checkpoint.\n",
      "2021-02-25 10:40:53,186 - root - INFO - Loading BERT pre-trained checkpoint.\n",
      "2021-02-25 10:40:55,817 - root - INFO - Loading BERT pre-trained checkpoint.\n",
      "2021-02-25 10:40:58,517 - root - INFO - Loading BERT pre-trained checkpoint.\n",
      "2021-02-25 10:41:01,212 - root - INFO - Loading BERT pre-trained checkpoint.\n",
      "2021-02-25 10:41:03,814 - root - INFO - Loading BERT pre-trained checkpoint.\n",
      "2021-02-25 10:41:06,412 - root - INFO - Loading BERT pre-trained checkpoint.\n",
      "2021-02-25 10:41:09,015 - root - INFO - Loading BERT pre-trained checkpoint.\n",
      "2021-02-25 10:41:11,719 - root - INFO - Loading BERT pre-trained checkpoint.\n",
      "2021-02-25 10:41:14,477 - root - INFO - Loading BERT pre-trained checkpoint.\n",
      "2021-02-25 10:41:17,216 - root - INFO - Loading BERT pre-trained checkpoint.\n",
      "2021-02-25 10:41:19,819 - root - INFO - Loading BERT pre-trained checkpoint.\n",
      "2021-02-25 10:41:22,413 - root - INFO - Loading BERT pre-trained checkpoint.\n",
      "2021-02-25 10:41:25,007 - root - INFO - Loading BERT pre-trained checkpoint.\n",
      "2021-02-25 10:41:27,608 - root - INFO - Loading BERT pre-trained checkpoint.\n",
      "2021-02-25 10:41:30,220 - root - INFO - Loading BERT pre-trained checkpoint.\n",
      "2021-02-25 10:41:32,995 - root - INFO - Loading BERT pre-trained checkpoint.\n",
      "2021-02-25 10:41:35,584 - root - INFO - Loading BERT pre-trained checkpoint.\n",
      "2021-02-25 10:41:38,113 - root - INFO - Loading BERT pre-trained checkpoint.\n",
      "2021-02-25 10:41:40,709 - root - INFO - Loading BERT pre-trained checkpoint.\n",
      "2021-02-25 10:41:43,309 - root - INFO - Loading BERT pre-trained checkpoint.\n",
      "2021-02-25 10:41:45,913 - root - INFO - Loading BERT pre-trained checkpoint.\n",
      "2021-02-25 10:41:48,514 - root - INFO - Loading BERT pre-trained checkpoint.\n",
      "2021-02-25 10:41:51,358 - root - INFO - Loading BERT pre-trained checkpoint.\n",
      "2021-02-25 10:41:54,084 - root - INFO - Loading BERT pre-trained checkpoint.\n",
      "2021-02-25 10:41:56,696 - root - INFO - Loading BERT pre-trained checkpoint.\n",
      "2021-02-25 10:41:59,317 - root - INFO - Loading BERT pre-trained checkpoint.\n",
      "2021-02-25 10:42:01,909 - root - INFO - Loading BERT pre-trained checkpoint.\n",
      "2021-02-25 10:42:04,620 - root - INFO - Loading BERT pre-trained checkpoint.\n",
      "2021-02-25 10:42:07,550 - root - INFO - Loading BERT pre-trained checkpoint.\n",
      "2021-02-25 10:42:10,176 - root - INFO - Loading BERT pre-trained checkpoint.\n",
      "2021-02-25 10:42:12,781 - root - INFO - Loading BERT pre-trained checkpoint.\n",
      "2021-02-25 10:42:15,415 - root - INFO - Loading BERT pre-trained checkpoint.\n",
      "2021-02-25 10:42:17,996 - root - INFO - Loading BERT pre-trained checkpoint.\n",
      "2021-02-25 10:42:20,614 - root - INFO - Loading BERT pre-trained checkpoint.\n",
      "2021-02-25 10:42:23,194 - root - INFO - Loading BERT pre-trained checkpoint.\n",
      "2021-02-25 10:42:25,769 - root - INFO - Loading BERT pre-trained checkpoint.\n",
      "2021-02-25 10:42:28,320 - root - INFO - Loading BERT pre-trained checkpoint.\n",
      "2021-02-25 10:42:30,914 - root - INFO - Loading BERT pre-trained checkpoint.\n",
      "2021-02-25 10:42:33,513 - root - INFO - Loading BERT pre-trained checkpoint.\n",
      "2021-02-25 10:42:36,096 - root - INFO - Loading BERT pre-trained checkpoint.\n",
      "2021-02-25 10:42:38,847 - root - INFO - Loading BERT pre-trained checkpoint.\n",
      "2021-02-25 10:42:41,416 - root - INFO - Loading BERT pre-trained checkpoint.\n"
     ]
    },
    {
     "data": {
      "text/html": [
       "<div>\n",
       "<style scoped>\n",
       "    .dataframe tbody tr th:only-of-type {\n",
       "        vertical-align: middle;\n",
       "    }\n",
       "\n",
       "    .dataframe tbody tr th {\n",
       "        vertical-align: top;\n",
       "    }\n",
       "\n",
       "    .dataframe thead th {\n",
       "        text-align: right;\n",
       "    }\n",
       "</style>\n",
       "<table border=\"1\" class=\"dataframe\">\n",
       "  <thead>\n",
       "    <tr style=\"text-align: right;\">\n",
       "      <th></th>\n",
       "      <th>original text</th>\n",
       "      <th>triple</th>\n",
       "      <th>confidence level</th>\n",
       "    </tr>\n",
       "  </thead>\n",
       "  <tbody>\n",
       "    <tr>\n",
       "      <th>17</th>\n",
       "      <td>Phase Two began with Iron Man 3 (2013) and con...</td>\n",
       "      <td>(2013, has part, Ant-Man)</td>\n",
       "      <td>0.994713</td>\n",
       "    </tr>\n",
       "    <tr>\n",
       "      <th>3</th>\n",
       "      <td>The first MCU film is Iron Man (2008), which b...</td>\n",
       "      <td>(MCU, instance of, One)</td>\n",
       "      <td>0.993919</td>\n",
       "    </tr>\n",
       "    <tr>\n",
       "      <th>10</th>\n",
       "      <td>The first MCU film is Iron Man (2008), which b...</td>\n",
       "      <td>(One, instance of, MCU)</td>\n",
       "      <td>0.993033</td>\n",
       "    </tr>\n",
       "    <tr>\n",
       "      <th>12</th>\n",
       "      <td>The first MCU film is Iron Man (2008), which b...</td>\n",
       "      <td>(One, follows, 2008)</td>\n",
       "      <td>0.992197</td>\n",
       "    </tr>\n",
       "    <tr>\n",
       "      <th>40</th>\n",
       "      <td>The first three phases in the franchise are co...</td>\n",
       "      <td>(three, has part, The Infinity Saga)</td>\n",
       "      <td>0.991550</td>\n",
       "    </tr>\n",
       "    <tr>\n",
       "      <th>18</th>\n",
       "      <td>Phase Two began with Iron Man 3 (2013) and con...</td>\n",
       "      <td>(Ant-Man, has part, 2013)</td>\n",
       "      <td>0.991530</td>\n",
       "    </tr>\n",
       "    <tr>\n",
       "      <th>8</th>\n",
       "      <td>The first MCU film is Iron Man (2008), which b...</td>\n",
       "      <td>(2008, follows, One)</td>\n",
       "      <td>0.989143</td>\n",
       "    </tr>\n",
       "    <tr>\n",
       "      <th>2</th>\n",
       "      <td>The first MCU film is Iron Man (2008), which b...</td>\n",
       "      <td>(MCU, instance of, 2008)</td>\n",
       "      <td>0.987924</td>\n",
       "    </tr>\n",
       "    <tr>\n",
       "      <th>14</th>\n",
       "      <td>The first MCU film is Iron Man (2008), which b...</td>\n",
       "      <td>(2012, instance of, MCU)</td>\n",
       "      <td>0.987523</td>\n",
       "    </tr>\n",
       "    <tr>\n",
       "      <th>5</th>\n",
       "      <td>The first MCU film is Iron Man (2008), which b...</td>\n",
       "      <td>(Iron Man, instance of, MCU)</td>\n",
       "      <td>0.983998</td>\n",
       "    </tr>\n",
       "    <tr>\n",
       "      <th>1</th>\n",
       "      <td>The first MCU film is Iron Man (2008), which b...</td>\n",
       "      <td>(MCU, instance of, Iron Man)</td>\n",
       "      <td>0.983919</td>\n",
       "    </tr>\n",
       "    <tr>\n",
       "      <th>7</th>\n",
       "      <td>The first MCU film is Iron Man (2008), which b...</td>\n",
       "      <td>(2008, instance of, MCU)</td>\n",
       "      <td>0.983430</td>\n",
       "    </tr>\n",
       "    <tr>\n",
       "      <th>39</th>\n",
       "      <td>The first three phases in the franchise are co...</td>\n",
       "      <td>(three, has part, first)</td>\n",
       "      <td>0.981438</td>\n",
       "    </tr>\n",
       "    <tr>\n",
       "      <th>9</th>\n",
       "      <td>The first MCU film is Iron Man (2008), which b...</td>\n",
       "      <td>(2008, followed by, 2012)</td>\n",
       "      <td>0.981049</td>\n",
       "    </tr>\n",
       "    <tr>\n",
       "      <th>45</th>\n",
       "      <td>3 (2023).</td>\n",
       "      <td>(2023, has part, 3)</td>\n",
       "      <td>0.978636</td>\n",
       "    </tr>\n",
       "    <tr>\n",
       "      <th>31</th>\n",
       "      <td>Phase Two began with Captain America: Civil Wa...</td>\n",
       "      <td>(Spider-Man:, follows, Captain America)</td>\n",
       "      <td>0.977418</td>\n",
       "    </tr>\n",
       "    <tr>\n",
       "      <th>36</th>\n",
       "      <td>Phase Two began with Captain America: Civil Wa...</td>\n",
       "      <td>(2019, followed by, Spider-Man:)</td>\n",
       "      <td>0.976262</td>\n",
       "    </tr>\n",
       "    <tr>\n",
       "      <th>13</th>\n",
       "      <td>The first MCU film is Iron Man (2008), which b...</td>\n",
       "      <td>(One, follows, 2012)</td>\n",
       "      <td>0.973084</td>\n",
       "    </tr>\n",
       "    <tr>\n",
       "      <th>33</th>\n",
       "      <td>Phase Two began with Captain America: Civil Wa...</td>\n",
       "      <td>(Spider-Man:, followed by, 2019)</td>\n",
       "      <td>0.973080</td>\n",
       "    </tr>\n",
       "    <tr>\n",
       "      <th>4</th>\n",
       "      <td>The first MCU film is Iron Man (2008), which b...</td>\n",
       "      <td>(MCU, instance of, 2012)</td>\n",
       "      <td>0.963740</td>\n",
       "    </tr>\n",
       "    <tr>\n",
       "      <th>6</th>\n",
       "      <td>The first MCU film is Iron Man (2008), which b...</td>\n",
       "      <td>(Iron Man, follows, One)</td>\n",
       "      <td>0.963410</td>\n",
       "    </tr>\n",
       "    <tr>\n",
       "      <th>41</th>\n",
       "      <td>The first three phases in the franchise are co...</td>\n",
       "      <td>(The Infinity Saga, has part, first)</td>\n",
       "      <td>0.962291</td>\n",
       "    </tr>\n",
       "    <tr>\n",
       "      <th>24</th>\n",
       "      <td>Phase Two began with Captain America: Civil Wa...</td>\n",
       "      <td>(Captain America, follows, Spider-Man:)</td>\n",
       "      <td>0.957068</td>\n",
       "    </tr>\n",
       "    <tr>\n",
       "      <th>20</th>\n",
       "      <td>Phase Two began with Captain America: Civil Wa...</td>\n",
       "      <td>(Two, followed by, 2016)</td>\n",
       "      <td>0.952921</td>\n",
       "    </tr>\n",
       "    <tr>\n",
       "      <th>15</th>\n",
       "      <td>The first MCU film is Iron Man (2008), which b...</td>\n",
       "      <td>(2012, follows, One)</td>\n",
       "      <td>0.952552</td>\n",
       "    </tr>\n",
       "    <tr>\n",
       "      <th>26</th>\n",
       "      <td>Phase Two began with Captain America: Civil Wa...</td>\n",
       "      <td>(Civil War, followed by, 2016)</td>\n",
       "      <td>0.950453</td>\n",
       "    </tr>\n",
       "    <tr>\n",
       "      <th>11</th>\n",
       "      <td>The first MCU film is Iron Man (2008), which b...</td>\n",
       "      <td>(One, follows, Iron Man)</td>\n",
       "      <td>0.946326</td>\n",
       "    </tr>\n",
       "    <tr>\n",
       "      <th>42</th>\n",
       "      <td>The first three phases in the franchise are co...</td>\n",
       "      <td>(The Infinity Saga, has part, three)</td>\n",
       "      <td>0.941396</td>\n",
       "    </tr>\n",
       "    <tr>\n",
       "      <th>29</th>\n",
       "      <td>Phase Two began with Captain America: Civil Wa...</td>\n",
       "      <td>(2016, follows, Spider-Man:)</td>\n",
       "      <td>0.941206</td>\n",
       "    </tr>\n",
       "    <tr>\n",
       "      <th>28</th>\n",
       "      <td>Phase Two began with Captain America: Civil Wa...</td>\n",
       "      <td>(2016, followed by, Civil War)</td>\n",
       "      <td>0.928563</td>\n",
       "    </tr>\n",
       "    <tr>\n",
       "      <th>27</th>\n",
       "      <td>Phase Two began with Captain America: Civil Wa...</td>\n",
       "      <td>(2016, followed by, Two)</td>\n",
       "      <td>0.921405</td>\n",
       "    </tr>\n",
       "    <tr>\n",
       "      <th>44</th>\n",
       "      <td>3 (2023).</td>\n",
       "      <td>(3, has part, 2023)</td>\n",
       "      <td>0.919006</td>\n",
       "    </tr>\n",
       "    <tr>\n",
       "      <th>25</th>\n",
       "      <td>Phase Two began with Captain America: Civil Wa...</td>\n",
       "      <td>(Civil War, said to be the same as, Captain Am...</td>\n",
       "      <td>0.914041</td>\n",
       "    </tr>\n",
       "    <tr>\n",
       "      <th>21</th>\n",
       "      <td>Phase Two began with Captain America: Civil Wa...</td>\n",
       "      <td>(Two, followed by, Spider-Man:)</td>\n",
       "      <td>0.910855</td>\n",
       "    </tr>\n",
       "    <tr>\n",
       "      <th>38</th>\n",
       "      <td>The first three phases in the franchise are co...</td>\n",
       "      <td>(first, has part, The Infinity Saga)</td>\n",
       "      <td>0.898178</td>\n",
       "    </tr>\n",
       "    <tr>\n",
       "      <th>0</th>\n",
       "      <td>The first MCU film is Iron Man (2008), which b...</td>\n",
       "      <td>(first, instance of, One)</td>\n",
       "      <td>0.892282</td>\n",
       "    </tr>\n",
       "    <tr>\n",
       "      <th>43</th>\n",
       "      <td>The films of Phase Four will begin with Black ...</td>\n",
       "      <td>(the Galaxy Vol, follows, Black Widow)</td>\n",
       "      <td>0.870268</td>\n",
       "    </tr>\n",
       "    <tr>\n",
       "      <th>23</th>\n",
       "      <td>Phase Two began with Captain America: Civil Wa...</td>\n",
       "      <td>(Captain America, said to be the same as, Civi...</td>\n",
       "      <td>0.863228</td>\n",
       "    </tr>\n",
       "    <tr>\n",
       "      <th>30</th>\n",
       "      <td>Phase Two began with Captain America: Civil Wa...</td>\n",
       "      <td>(Spider-Man:, followed by, Two)</td>\n",
       "      <td>0.852331</td>\n",
       "    </tr>\n",
       "    <tr>\n",
       "      <th>16</th>\n",
       "      <td>Phase Two began with Iron Man 3 (2013) and con...</td>\n",
       "      <td>(Two, has part, Ant-Man)</td>\n",
       "      <td>0.844176</td>\n",
       "    </tr>\n",
       "    <tr>\n",
       "      <th>35</th>\n",
       "      <td>Phase Two began with Captain America: Civil Wa...</td>\n",
       "      <td>(2019, followed by, 2016)</td>\n",
       "      <td>0.831325</td>\n",
       "    </tr>\n",
       "    <tr>\n",
       "      <th>37</th>\n",
       "      <td>The first three phases in the franchise are co...</td>\n",
       "      <td>(first, has part, three)</td>\n",
       "      <td>0.821390</td>\n",
       "    </tr>\n",
       "    <tr>\n",
       "      <th>34</th>\n",
       "      <td>Phase Two began with Captain America: Civil Wa...</td>\n",
       "      <td>(2019, followed by, Two)</td>\n",
       "      <td>0.817105</td>\n",
       "    </tr>\n",
       "    <tr>\n",
       "      <th>32</th>\n",
       "      <td>Phase Two began with Captain America: Civil Wa...</td>\n",
       "      <td>(Spider-Man:, follows, 2016)</td>\n",
       "      <td>0.816538</td>\n",
       "    </tr>\n",
       "    <tr>\n",
       "      <th>22</th>\n",
       "      <td>Phase Two began with Captain America: Civil Wa...</td>\n",
       "      <td>(Two, followed by, 2019)</td>\n",
       "      <td>0.809874</td>\n",
       "    </tr>\n",
       "    <tr>\n",
       "      <th>19</th>\n",
       "      <td>Phase Two began with Captain America: Civil Wa...</td>\n",
       "      <td>(Two, said to be the same as, Civil War)</td>\n",
       "      <td>0.807829</td>\n",
       "    </tr>\n",
       "  </tbody>\n",
       "</table>\n",
       "</div>"
      ],
      "text/plain": [
       "                                        original text  \\\n",
       "17  Phase Two began with Iron Man 3 (2013) and con...   \n",
       "3   The first MCU film is Iron Man (2008), which b...   \n",
       "10  The first MCU film is Iron Man (2008), which b...   \n",
       "12  The first MCU film is Iron Man (2008), which b...   \n",
       "40  The first three phases in the franchise are co...   \n",
       "18  Phase Two began with Iron Man 3 (2013) and con...   \n",
       "8   The first MCU film is Iron Man (2008), which b...   \n",
       "2   The first MCU film is Iron Man (2008), which b...   \n",
       "14  The first MCU film is Iron Man (2008), which b...   \n",
       "5   The first MCU film is Iron Man (2008), which b...   \n",
       "1   The first MCU film is Iron Man (2008), which b...   \n",
       "7   The first MCU film is Iron Man (2008), which b...   \n",
       "39  The first three phases in the franchise are co...   \n",
       "9   The first MCU film is Iron Man (2008), which b...   \n",
       "45                                          3 (2023).   \n",
       "31  Phase Two began with Captain America: Civil Wa...   \n",
       "36  Phase Two began with Captain America: Civil Wa...   \n",
       "13  The first MCU film is Iron Man (2008), which b...   \n",
       "33  Phase Two began with Captain America: Civil Wa...   \n",
       "4   The first MCU film is Iron Man (2008), which b...   \n",
       "6   The first MCU film is Iron Man (2008), which b...   \n",
       "41  The first three phases in the franchise are co...   \n",
       "24  Phase Two began with Captain America: Civil Wa...   \n",
       "20  Phase Two began with Captain America: Civil Wa...   \n",
       "15  The first MCU film is Iron Man (2008), which b...   \n",
       "26  Phase Two began with Captain America: Civil Wa...   \n",
       "11  The first MCU film is Iron Man (2008), which b...   \n",
       "42  The first three phases in the franchise are co...   \n",
       "29  Phase Two began with Captain America: Civil Wa...   \n",
       "28  Phase Two began with Captain America: Civil Wa...   \n",
       "27  Phase Two began with Captain America: Civil Wa...   \n",
       "44                                          3 (2023).   \n",
       "25  Phase Two began with Captain America: Civil Wa...   \n",
       "21  Phase Two began with Captain America: Civil Wa...   \n",
       "38  The first three phases in the franchise are co...   \n",
       "0   The first MCU film is Iron Man (2008), which b...   \n",
       "43  The films of Phase Four will begin with Black ...   \n",
       "23  Phase Two began with Captain America: Civil Wa...   \n",
       "30  Phase Two began with Captain America: Civil Wa...   \n",
       "16  Phase Two began with Iron Man 3 (2013) and con...   \n",
       "35  Phase Two began with Captain America: Civil Wa...   \n",
       "37  The first three phases in the franchise are co...   \n",
       "34  Phase Two began with Captain America: Civil Wa...   \n",
       "32  Phase Two began with Captain America: Civil Wa...   \n",
       "22  Phase Two began with Captain America: Civil Wa...   \n",
       "19  Phase Two began with Captain America: Civil Wa...   \n",
       "\n",
       "                                               triple  confidence level  \n",
       "17                          (2013, has part, Ant-Man)          0.994713  \n",
       "3                             (MCU, instance of, One)          0.993919  \n",
       "10                            (One, instance of, MCU)          0.993033  \n",
       "12                               (One, follows, 2008)          0.992197  \n",
       "40               (three, has part, The Infinity Saga)          0.991550  \n",
       "18                          (Ant-Man, has part, 2013)          0.991530  \n",
       "8                                (2008, follows, One)          0.989143  \n",
       "2                            (MCU, instance of, 2008)          0.987924  \n",
       "14                           (2012, instance of, MCU)          0.987523  \n",
       "5                        (Iron Man, instance of, MCU)          0.983998  \n",
       "1                        (MCU, instance of, Iron Man)          0.983919  \n",
       "7                            (2008, instance of, MCU)          0.983430  \n",
       "39                           (three, has part, first)          0.981438  \n",
       "9                           (2008, followed by, 2012)          0.981049  \n",
       "45                                (2023, has part, 3)          0.978636  \n",
       "31            (Spider-Man:, follows, Captain America)          0.977418  \n",
       "36                   (2019, followed by, Spider-Man:)          0.976262  \n",
       "13                               (One, follows, 2012)          0.973084  \n",
       "33                   (Spider-Man:, followed by, 2019)          0.973080  \n",
       "4                            (MCU, instance of, 2012)          0.963740  \n",
       "6                            (Iron Man, follows, One)          0.963410  \n",
       "41               (The Infinity Saga, has part, first)          0.962291  \n",
       "24            (Captain America, follows, Spider-Man:)          0.957068  \n",
       "20                           (Two, followed by, 2016)          0.952921  \n",
       "15                               (2012, follows, One)          0.952552  \n",
       "26                     (Civil War, followed by, 2016)          0.950453  \n",
       "11                           (One, follows, Iron Man)          0.946326  \n",
       "42               (The Infinity Saga, has part, three)          0.941396  \n",
       "29                       (2016, follows, Spider-Man:)          0.941206  \n",
       "28                     (2016, followed by, Civil War)          0.928563  \n",
       "27                           (2016, followed by, Two)          0.921405  \n",
       "44                                (3, has part, 2023)          0.919006  \n",
       "25  (Civil War, said to be the same as, Captain Am...          0.914041  \n",
       "21                    (Two, followed by, Spider-Man:)          0.910855  \n",
       "38               (first, has part, The Infinity Saga)          0.898178  \n",
       "0                           (first, instance of, One)          0.892282  \n",
       "43             (the Galaxy Vol, follows, Black Widow)          0.870268  \n",
       "23  (Captain America, said to be the same as, Civi...          0.863228  \n",
       "30                    (Spider-Man:, followed by, Two)          0.852331  \n",
       "16                           (Two, has part, Ant-Man)          0.844176  \n",
       "35                          (2019, followed by, 2016)          0.831325  \n",
       "37                           (first, has part, three)          0.821390  \n",
       "34                           (2019, followed by, Two)          0.817105  \n",
       "32                       (Spider-Man:, follows, 2016)          0.816538  \n",
       "22                           (Two, followed by, 2019)          0.809874  \n",
       "19           (Two, said to be the same as, Civil War)          0.807829  "
      ]
     },
     "execution_count": 45,
     "metadata": {},
     "output_type": "execute_result"
    }
   ],
   "source": [
    "txt2triple(\"\"\"The first MCU film is Iron Man (2008), which began the films of Phase One culminating in the crossover film The Avengers (2012). Phase Two began with Iron Man 3 (2013) and concluded with Ant-Man (2015). Phase Three began with Captain America: Civil War (2016) and concluded with Spider-Man: Far From Home (2019). The first three phases in the franchise are collectively known as \"The Infinity Saga\". The films of Phase Four will begin with Black Widow (2021) and are set to conclude with Guardians of the Galaxy Vol. 3 (2023).\"\"\")"
   ]
  },
  {
   "cell_type": "code",
   "execution_count": 46,
   "metadata": {},
   "outputs": [
    {
     "name": "stderr",
     "output_type": "stream",
     "text": [
      "2021-02-25 10:42:44,553 - root - INFO - Loading BERT pre-trained checkpoint.\n",
      "2021-02-25 10:42:47,176 - root - INFO - Loading BERT pre-trained checkpoint.\n"
     ]
    },
    {
     "data": {
      "text/html": [
       "<div>\n",
       "<style scoped>\n",
       "    .dataframe tbody tr th:only-of-type {\n",
       "        vertical-align: middle;\n",
       "    }\n",
       "\n",
       "    .dataframe tbody tr th {\n",
       "        vertical-align: top;\n",
       "    }\n",
       "\n",
       "    .dataframe thead th {\n",
       "        text-align: right;\n",
       "    }\n",
       "</style>\n",
       "<table border=\"1\" class=\"dataframe\">\n",
       "  <thead>\n",
       "    <tr style=\"text-align: right;\">\n",
       "      <th></th>\n",
       "      <th>original text</th>\n",
       "      <th>triple</th>\n",
       "      <th>confidence level</th>\n",
       "    </tr>\n",
       "  </thead>\n",
       "  <tbody>\n",
       "    <tr>\n",
       "      <th>1</th>\n",
       "      <td>Steve Jobs is the founder of Apple.</td>\n",
       "      <td>(Apple, owned by, Steve Jobs)</td>\n",
       "      <td>0.970344</td>\n",
       "    </tr>\n",
       "    <tr>\n",
       "      <th>0</th>\n",
       "      <td>Steve Jobs is the founder of Apple.</td>\n",
       "      <td>(Steve Jobs, owned by, Apple)</td>\n",
       "      <td>0.878194</td>\n",
       "    </tr>\n",
       "  </tbody>\n",
       "</table>\n",
       "</div>"
      ],
      "text/plain": [
       "                         original text                         triple  \\\n",
       "1  Steve Jobs is the founder of Apple.  (Apple, owned by, Steve Jobs)   \n",
       "0  Steve Jobs is the founder of Apple.  (Steve Jobs, owned by, Apple)   \n",
       "\n",
       "   confidence level  \n",
       "1          0.970344  \n",
       "0          0.878194  "
      ]
     },
     "execution_count": 46,
     "metadata": {},
     "output_type": "execute_result"
    }
   ],
   "source": [
    "txt2triple('Steve Jobs is the founder of Apple.')"
   ]
  },
  {
   "cell_type": "code",
   "execution_count": null,
   "metadata": {},
   "outputs": [],
   "source": []
  }
 ],
 "metadata": {
  "kernelspec": {
   "display_name": "Python 3",
   "language": "python",
   "name": "python3"
  },
  "language_info": {
   "codemirror_mode": {
    "name": "ipython",
    "version": 3
   },
   "file_extension": ".py",
   "mimetype": "text/x-python",
   "name": "python",
   "nbconvert_exporter": "python",
   "pygments_lexer": "ipython3",
   "version": "3.7.6"
  }
 },
 "nbformat": 4,
 "nbformat_minor": 5
}
