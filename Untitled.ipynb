{
 "cells": [
  {
   "cell_type": "code",
   "execution_count": null,
   "id": "gothic-vietnamese",
   "metadata": {},
   "outputs": [],
   "source": [
    "## mcu wikidata \n",
    "import wikipediaapi\n",
    "\n",
    "wiki = wikipediaapi.Wikipedia('en')\n",
    "\n",
    "mcu = \"Marvel Cinematic Universe\"\n",
    "page_py = wiki.page(mcu)\n",
    "# print(page_py.exists())\n",
    "\n",
    "# print(\"Page - Summary: %s\" % page_py.summary[:100])\n",
    "\n",
    "wiki = wikipediaapi.Wikipedia(\n",
    "    language='en',\n",
    "    extract_format=wikipediaapi.ExtractFormat.WIKI\n",
    ")\n",
    "p_wiki = wiki.page(mcu)\n",
    "\n",
    "mcu_text = p_wiki.text[:2509+len('commercials.')]\n",
    "# print(mcu_text)\n",
    "\n",
    "\n",
    "## step 1. coreference resolution\n",
    "import spacy\n",
    "import neuralcoref\n",
    "from spacy.tokenizer import Tokenizer\n",
    "\n",
    "\n",
    "nlp = spacy.load('en')\n",
    "neuralcoref.add_to_pipe(nlp)\n",
    "\n",
    "def coref_resolution(text):\n",
    "    '''\n",
    "    주어진 텍스트에 대해 coreference resolution 수행하고\n",
    "    같은 entity는 같은 표현으로 바꿔주는 함수\n",
    "    '''\n",
    "    doc = nlp(text)\n",
    "    return doc._.has_coref, doc._.coref_clusters, doc._.coref_resolved\n",
    "\n",
    "doc = nlp(mcu_text)\n",
    "sentences = [sent.string.strip() for sent in doc.sents]\n",
    "\n",
    "for s in sentences:\n",
    "    print(coref_resolution(s))\n",
    "\n",
    "import re\n",
    "mcu_text = re.sub('\\n',' ', mcu_text)\n",
    "mcu_text"
   ]
  }
 ],
 "metadata": {
  "kernelspec": {
   "display_name": "Python 3",
   "language": "python",
   "name": "python3"
  },
  "language_info": {
   "codemirror_mode": {
    "name": "ipython",
    "version": 3
   },
   "file_extension": ".py",
   "mimetype": "text/x-python",
   "name": "python",
   "nbconvert_exporter": "python",
   "pygments_lexer": "ipython3",
   "version": "3.8.3"
  }
 },
 "nbformat": 4,
 "nbformat_minor": 5
}
